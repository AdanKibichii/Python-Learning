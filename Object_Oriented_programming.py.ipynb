{
 "cells": [
  {
   "cell_type": "code",
   "execution_count": 6,
   "id": "6709465c",
   "metadata": {},
   "outputs": [],
   "source": [
    "class Dog:\n",
    "    #Class Attribute\n",
    "    species=\"Canis familiaris\"\n",
    "    \n",
    "    def __init__(self, name, age):\n",
    "        self.name=name\n",
    "        self.age=age"
   ]
  },
  {
   "cell_type": "code",
   "execution_count": 7,
   "id": "7b56e5cf",
   "metadata": {},
   "outputs": [],
   "source": [
    "class Dog:\n",
    "    pass"
   ]
  },
  {
   "cell_type": "code",
   "execution_count": 8,
   "id": "4aa7933b",
   "metadata": {},
   "outputs": [
    {
     "data": {
      "text/plain": [
       "<__main__.Dog at 0x172da8060d0>"
      ]
     },
     "execution_count": 8,
     "metadata": {},
     "output_type": "execute_result"
    }
   ],
   "source": [
    "#initiating an instance\n",
    "Dog()"
   ]
  },
  {
   "cell_type": "code",
   "execution_count": 9,
   "id": "f6e188e9",
   "metadata": {},
   "outputs": [
    {
     "data": {
      "text/plain": [
       "False"
      ]
     },
     "execution_count": 9,
     "metadata": {},
     "output_type": "execute_result"
    }
   ],
   "source": [
    "a=Dog()\n",
    "b=Dog()\n",
    "a==b"
   ]
  },
  {
   "cell_type": "code",
   "execution_count": 10,
   "id": "20499ced",
   "metadata": {},
   "outputs": [
    {
     "data": {
      "text/plain": [
       "'Buddy'"
      ]
     },
     "execution_count": 10,
     "metadata": {},
     "output_type": "execute_result"
    }
   ],
   "source": [
    "class Dog:\n",
    "    #Class Attribute\n",
    "    species=\"Canis familiaris\"\n",
    "    \n",
    "    def __init__(self, name, age):\n",
    "        self.name=name\n",
    "        self.age=age\n",
    "buddy=Dog('Buddy',9)\n",
    "miles=Dog('Miles',4)\n",
    "buddy.name"
   ]
  },
  {
   "cell_type": "code",
   "execution_count": 11,
   "id": "680107e5",
   "metadata": {},
   "outputs": [
    {
     "data": {
      "text/plain": [
       "'Buddy'"
      ]
     },
     "execution_count": 11,
     "metadata": {},
     "output_type": "execute_result"
    }
   ],
   "source": [
    "buddy.name"
   ]
  },
  {
   "cell_type": "code",
   "execution_count": 12,
   "id": "80c9bbd3",
   "metadata": {},
   "outputs": [
    {
     "data": {
      "text/plain": [
       "'Miles'"
      ]
     },
     "execution_count": 12,
     "metadata": {},
     "output_type": "execute_result"
    }
   ],
   "source": [
    "miles.name"
   ]
  },
  {
   "cell_type": "code",
   "execution_count": 13,
   "id": "7bd91243",
   "metadata": {},
   "outputs": [
    {
     "data": {
      "text/plain": [
       "9"
      ]
     },
     "execution_count": 13,
     "metadata": {},
     "output_type": "execute_result"
    }
   ],
   "source": [
    "buddy.age"
   ]
  },
  {
   "cell_type": "code",
   "execution_count": 14,
   "id": "3b509ecf",
   "metadata": {},
   "outputs": [
    {
     "data": {
      "text/plain": [
       "4"
      ]
     },
     "execution_count": 14,
     "metadata": {},
     "output_type": "execute_result"
    }
   ],
   "source": [
    "miles.age"
   ]
  },
  {
   "cell_type": "code",
   "execution_count": 15,
   "id": "a41879c4",
   "metadata": {},
   "outputs": [
    {
     "data": {
      "text/plain": [
       "'Canis familiaris'"
      ]
     },
     "execution_count": 15,
     "metadata": {},
     "output_type": "execute_result"
    }
   ],
   "source": [
    "buddy.species"
   ]
  },
  {
   "cell_type": "code",
   "execution_count": 16,
   "id": "f5f9697d",
   "metadata": {},
   "outputs": [
    {
     "data": {
      "text/plain": [
       "'Canis familiaris'"
      ]
     },
     "execution_count": 16,
     "metadata": {},
     "output_type": "execute_result"
    }
   ],
   "source": [
    "miles.species"
   ]
  },
  {
   "cell_type": "code",
   "execution_count": 17,
   "id": "35054e2c",
   "metadata": {},
   "outputs": [
    {
     "data": {
      "text/plain": [
       "True"
      ]
     },
     "execution_count": 17,
     "metadata": {},
     "output_type": "execute_result"
    }
   ],
   "source": [
    "buddy.species==miles.species"
   ]
  },
  {
   "cell_type": "code",
   "execution_count": 18,
   "id": "1ae57a44",
   "metadata": {},
   "outputs": [],
   "source": [
    "#instance methods\n",
    "class Dog:\n",
    "    #Class Attribute\n",
    "    species=\"Canis familiaris\"\n",
    "    \n",
    "    def __init__(self, name, age):\n",
    "        self.name=name\n",
    "        self.age=age\n",
    "    #instance methods\n",
    "    def description(self):\n",
    "        return f\"{self.name} is {self.age} years old\"\n",
    "    def speak(self,sound):\n",
    "        return f\"{self.name} says {sound}\""
   ]
  },
  {
   "cell_type": "code",
   "execution_count": 19,
   "id": "4aea433a",
   "metadata": {},
   "outputs": [],
   "source": [
    "miles=Dog('Miles',4)"
   ]
  },
  {
   "cell_type": "code",
   "execution_count": 20,
   "id": "7f07f9c2",
   "metadata": {},
   "outputs": [
    {
     "data": {
      "text/plain": [
       "'Miles is 4 years old'"
      ]
     },
     "execution_count": 20,
     "metadata": {},
     "output_type": "execute_result"
    }
   ],
   "source": [
    "miles.description()"
   ]
  },
  {
   "cell_type": "code",
   "execution_count": 21,
   "id": "b2e8fc13",
   "metadata": {},
   "outputs": [
    {
     "data": {
      "text/plain": [
       "'Miles says Woof Woof'"
      ]
     },
     "execution_count": 21,
     "metadata": {},
     "output_type": "execute_result"
    }
   ],
   "source": [
    "miles.speak (\"Woof Woof\")"
   ]
  },
  {
   "cell_type": "markdown",
   "id": "061ef499",
   "metadata": {},
   "source": []
  },
  {
   "cell_type": "code",
   "execution_count": 22,
   "id": "3f98d8d2",
   "metadata": {},
   "outputs": [
    {
     "data": {
      "text/plain": [
       "'Miles says Bow Bow'"
      ]
     },
     "execution_count": 22,
     "metadata": {},
     "output_type": "execute_result"
    }
   ],
   "source": [
    "miles.speak(\"Bow Bow\")"
   ]
  },
  {
   "cell_type": "code",
   "execution_count": 23,
   "id": "8fc0adb1",
   "metadata": {},
   "outputs": [
    {
     "name": "stdout",
     "output_type": "stream",
     "text": [
      "['Fletcher', 'David', 'Dan']\n"
     ]
    }
   ],
   "source": [
    "names=[\"Fletcher\", \"David\", \"Dan\"]\n",
    "print(names)"
   ]
  },
  {
   "cell_type": "code",
   "execution_count": 24,
   "id": "0e69cd61",
   "metadata": {},
   "outputs": [
    {
     "name": "stdout",
     "output_type": "stream",
     "text": [
      "<__main__.Dog object at 0x00000172DA83EB80>\n"
     ]
    }
   ],
   "source": [
    "print(miles)"
   ]
  },
  {
   "cell_type": "code",
   "execution_count": 25,
   "id": "db13660d",
   "metadata": {},
   "outputs": [],
   "source": [
    "class Dog:\n",
    "    species=\"Canis familiaris\"\n",
    "    def __init__(self,name,age):\n",
    "        self.name=name\n",
    "        self.age=age\n",
    "\n",
    "    def __str__(self):\n",
    "        return f\"{self.name} is {self.age} years old\""
   ]
  },
  {
   "cell_type": "code",
   "execution_count": 26,
   "id": "721dc0a9",
   "metadata": {},
   "outputs": [
    {
     "name": "stdout",
     "output_type": "stream",
     "text": [
      "Miles is 4 years old\n"
     ]
    }
   ],
   "source": [
    "miles=Dog('Miles',4)\n",
    "print(miles)"
   ]
  },
  {
   "cell_type": "code",
   "execution_count": 27,
   "id": "6cf12501",
   "metadata": {},
   "outputs": [],
   "source": [
    "#Exercises"
   ]
  },
  {
   "cell_type": "code",
   "execution_count": 24,
   "id": "f1ac8e9a",
   "metadata": {},
   "outputs": [],
   "source": [
    "class Dog:\n",
    "    species=\"Canis familiaris\"\n",
    "    def __init__(self,name,age,coat_color):\n",
    "        self.name=name\n",
    "        self.age=age\n",
    "        self.coat_color=coat_color\n",
    "\n",
    "    def __str__(self):\n",
    "        return f\"{self.name} is {self.age} years old\"\n",
    "    def __str__(self):\n",
    "        return f\"{self.name}'s coat is {self.coat_color}\""
   ]
  },
  {
   "cell_type": "code",
   "execution_count": 25,
   "id": "20f773cb",
   "metadata": {},
   "outputs": [
    {
     "name": "stdout",
     "output_type": "stream",
     "text": [
      "Philo's coat is Brown\n"
     ]
    }
   ],
   "source": [
    "philo=Dog('Philo',5,'Brown')\n",
    "print(philo)"
   ]
  },
  {
   "cell_type": "code",
   "execution_count": 33,
   "id": "8410a22e",
   "metadata": {},
   "outputs": [],
   "source": [
    "class Car:\n",
    "    def __init__(self,color,mileage):\n",
    "        self.color=color\n",
    "        self.mileage=mileage\n",
    "    def __str__(self):\n",
    "        return f\"The {self.color} has {self.mileage:,} miles.\""
   ]
  },
  {
   "cell_type": "code",
   "execution_count": 34,
   "id": "f4ad4e00",
   "metadata": {},
   "outputs": [],
   "source": [
    "blue_car=Car(\"blue\",20000)\n",
    "red_car=Car(\"red\",30000)"
   ]
  },
  {
   "cell_type": "code",
   "execution_count": 35,
   "id": "54b1d5a4",
   "metadata": {},
   "outputs": [
    {
     "name": "stdout",
     "output_type": "stream",
     "text": [
      "The blue has 20,000 miles.\n",
      "The red has 30,000 miles.\n"
     ]
    }
   ],
   "source": [
    "print(blue_car)\n",
    "print(red_car)"
   ]
  },
  {
   "cell_type": "code",
   "execution_count": null,
   "id": "9082bc0b",
   "metadata": {},
   "outputs": [],
   "source": []
  },
  {
   "cell_type": "code",
   "execution_count": 52,
   "id": "89d1d5a5",
   "metadata": {},
   "outputs": [
    {
     "name": "stdout",
     "output_type": "stream",
     "text": [
      "100\n"
     ]
    }
   ],
   "source": [
    "class Car:\n",
    "    def __init__(self, color, mileage):\n",
    "        self.color = color\n",
    "        self.mileage = mileage\n",
    "\n",
    "    def drive(self, miles):\n",
    "        self.mileage = self.mileage + miles\n",
    "\n",
    "\n",
    "blue_car = Car(\"blue\", 0)\n",
    "blue_car.drive(100)\n",
    "print(blue_car.mileage)\n"
   ]
  },
  {
   "cell_type": "code",
   "execution_count": 53,
   "id": "01ded7f4",
   "metadata": {
    "scrolled": true
   },
   "outputs": [
    {
     "name": "stdout",
     "output_type": "stream",
     "text": [
      "100\n",
      "100\n"
     ]
    }
   ],
   "source": [
    "blue_car = Car(\"blue\", 0)\n",
    "red_car=Car(\"red\",0)\n",
    "red_car.drive(100)\n",
    "blue_car.drive(100)\n",
    "print(blue_car.mileage)\n",
    "print(red_car.mileage)"
   ]
  },
  {
   "cell_type": "code",
   "execution_count": 2,
   "id": "55aa19f9",
   "metadata": {},
   "outputs": [
    {
     "name": "stdout",
     "output_type": "stream",
     "text": [
      "Adan\n",
      "Software Testing:Testing is Fun\n"
     ]
    }
   ],
   "source": [
    "class myClass():\n",
    "    def method1(self):\n",
    "        print(\"Adan\")\n",
    "    def method2(self, someString):\n",
    "        print(\"Software Testing:\" + someString)\n",
    "def main():\n",
    "    c=myClass()\n",
    "    c.method1()\n",
    "    c.method2(\"Testing is Fun\")\n",
    "if __name__ == \"__main__\":\n",
    "    main()"
   ]
  },
  {
   "cell_type": "code",
   "execution_count": 5,
   "id": "00255e45",
   "metadata": {},
   "outputs": [
    {
     "name": "stdout",
     "output_type": "stream",
     "text": [
      "Adan\n",
      "Child Class method2\n"
     ]
    }
   ],
   "source": [
    "#inheriting from other classes\n",
    "class myClass():\n",
    "    def method1(self):\n",
    "        print(\"Adan\")\n",
    "class childClass(myClass):\n",
    "    def method2(self):\n",
    "        print(\"Child Class method2\")\n",
    "def main():\n",
    "    c=childClass()\n",
    "    c.method1()\n",
    "    c.method2()\n",
    "if __name__== \"__main__\":\n",
    "    main()"
   ]
  },
  {
   "cell_type": "code",
   "execution_count": 28,
   "id": "08bc4d14",
   "metadata": {},
   "outputs": [],
   "source": [
    "class Dog:\n",
    "    species=\"Canis familiaris\"\n",
    "    \n",
    "    def __init__(self,name,age,breed):\n",
    "        self.name=name\n",
    "        self.age=age\n",
    "        self.breed=breed\n",
    "    def speak(self,sound):\n",
    "        return(f\"{self.name} says {sound}\")"
   ]
  },
  {
   "cell_type": "code",
   "execution_count": 29,
   "id": "81f5f05f",
   "metadata": {},
   "outputs": [],
   "source": [
    "miles = Dog(\"Miles\", 4, \"Jack Russell Terrier\")\n",
    "buddy = Dog(\"Buddy\", 9, \"Dachshund\")\n",
    "jack = Dog(\"Jack\", 3, \"Bulldog\")\n",
    "jim = Dog(\"Jim\", 5, \"Bulldog\")"
   ]
  },
  {
   "cell_type": "code",
   "execution_count": 31,
   "id": "e55ee7cc",
   "metadata": {},
   "outputs": [
    {
     "data": {
      "text/plain": [
       "'Jack says Woof'"
      ]
     },
     "execution_count": 31,
     "metadata": {},
     "output_type": "execute_result"
    }
   ],
   "source": [
    "jack.speak(\"Woof\")"
   ]
  },
  {
   "cell_type": "code",
   "execution_count": 32,
   "id": "44ded326",
   "metadata": {},
   "outputs": [
    {
     "data": {
      "text/plain": [
       "'Buddy says Yap'"
      ]
     },
     "execution_count": 32,
     "metadata": {},
     "output_type": "execute_result"
    }
   ],
   "source": [
    "buddy.speak(\"Yap\")"
   ]
  },
  {
   "cell_type": "code",
   "execution_count": 33,
   "id": "afd970a4",
   "metadata": {},
   "outputs": [
    {
     "data": {
      "text/plain": [
       "'Jim says Woof'"
      ]
     },
     "execution_count": 33,
     "metadata": {},
     "output_type": "execute_result"
    }
   ],
   "source": [
    "jim.speak(\"Woof\")"
   ]
  },
  {
   "cell_type": "code",
   "execution_count": 54,
   "id": "442a3710",
   "metadata": {},
   "outputs": [],
   "source": [
    "class Dog:\n",
    "    species=\"Canis familiaris\"\n",
    "    \n",
    "    def __init__(self,name,age):\n",
    "        self.name=name\n",
    "        self.age=age\n",
    "        \n",
    "    def __str__(self):\n",
    "        return f\"{self.name} is {self.age} years old\"\n",
    "    \n",
    "    def speak(self,sound):\n",
    "        return f\"{self.name} says {self.sound}\"\n",
    "        \n",
    "class JackRusellTerrier(Dog):\n",
    "    pass\n",
    "class Dachshund(Dog):\n",
    "    pass\n",
    "class Bulldog(Dog):\n",
    "    pass"
   ]
  },
  {
   "cell_type": "code",
   "execution_count": 62,
   "id": "3a8eeddc",
   "metadata": {},
   "outputs": [],
   "source": [
    "miles=JackRusellTerrier(\"Miles\",4)\n",
    "buddy=Dachshund(\"Buddy\",9)\n",
    "jack=Bulldog(\"Jack\",3)\n",
    "jim=Bulldog(\"Jim\",5)"
   ]
  },
  {
   "cell_type": "code",
   "execution_count": 63,
   "id": "744e5c16",
   "metadata": {},
   "outputs": [
    {
     "data": {
      "text/plain": [
       "'Canis familiaris'"
      ]
     },
     "execution_count": 63,
     "metadata": {},
     "output_type": "execute_result"
    }
   ],
   "source": [
    "miles.species"
   ]
  },
  {
   "cell_type": "code",
   "execution_count": 64,
   "id": "6a2afa3d",
   "metadata": {},
   "outputs": [
    {
     "data": {
      "text/plain": [
       "'Buddy'"
      ]
     },
     "execution_count": 64,
     "metadata": {},
     "output_type": "execute_result"
    }
   ],
   "source": [
    "buddy.name"
   ]
  },
  {
   "cell_type": "code",
   "execution_count": 65,
   "id": "4dd82693",
   "metadata": {},
   "outputs": [
    {
     "name": "stdout",
     "output_type": "stream",
     "text": [
      "Jack is 3 years old\n"
     ]
    }
   ],
   "source": [
    "print(jack)"
   ]
  },
  {
   "cell_type": "code",
   "execution_count": 67,
   "id": "afa5eec8",
   "metadata": {},
   "outputs": [
    {
     "name": "stdout",
     "output_type": "stream",
     "text": [
      "Canis familiaris\n",
      "Buddy\n",
      "Jack is 3 years old\n",
      "Jim says Woof\n"
     ]
    }
   ],
   "source": [
    "class Dog():\n",
    "    species= \"Canis familiaris\"\n",
    "\n",
    "    def __init__(self,name,age):\n",
    "        self.name=name\n",
    "        self.age=age\n",
    "    def __str__(self):\n",
    "        return f\"{self.name} is {self.age} years old\"\n",
    "    def speak(self,sound):\n",
    "        return (f\"{self.name} says {sound}\")\n",
    "\n",
    "class JackRussellTerrier(Dog):\n",
    "    pass\n",
    "class Dachshund(Dog):\n",
    "    pass\n",
    "class Bulldog(Dog):\n",
    "    pass\n",
    "\n",
    "miles=JackRussellTerrier(\"Miles\",4)\n",
    "buddy=Dachshund(\"Buddy\",9)\n",
    "jack=Bulldog(\"Jack\",3)\n",
    "jim=Bulldog(\"Jim\",5)\n",
    "\n",
    "print(miles.species)\n",
    "print(buddy.name)\n",
    "print(jack)\n",
    "print(jim.speak(\"Woof\"))"
   ]
  },
  {
   "cell_type": "code",
   "execution_count": 68,
   "id": "d9e1f4a3",
   "metadata": {},
   "outputs": [
    {
     "data": {
      "text/plain": [
       "__main__.JackRussellTerrier"
      ]
     },
     "execution_count": 68,
     "metadata": {},
     "output_type": "execute_result"
    }
   ],
   "source": [
    "type(miles)"
   ]
  },
  {
   "cell_type": "code",
   "execution_count": 69,
   "id": "9e6027f2",
   "metadata": {},
   "outputs": [
    {
     "data": {
      "text/plain": [
       "True"
      ]
     },
     "execution_count": 69,
     "metadata": {},
     "output_type": "execute_result"
    }
   ],
   "source": [
    "isinstance(miles,Dog)"
   ]
  },
  {
   "cell_type": "code",
   "execution_count": 70,
   "id": "e1efef7b",
   "metadata": {},
   "outputs": [
    {
     "data": {
      "text/plain": [
       "False"
      ]
     },
     "execution_count": 70,
     "metadata": {},
     "output_type": "execute_result"
    }
   ],
   "source": [
    "isinstance(miles, Bulldog)"
   ]
  },
  {
   "cell_type": "code",
   "execution_count": 71,
   "id": "ddbd2351",
   "metadata": {},
   "outputs": [
    {
     "data": {
      "text/plain": [
       "False"
      ]
     },
     "execution_count": 71,
     "metadata": {},
     "output_type": "execute_result"
    }
   ],
   "source": [
    "isinstance(jack, Dachshund)"
   ]
  },
  {
   "cell_type": "code",
   "execution_count": 94,
   "id": "c241db8d",
   "metadata": {},
   "outputs": [],
   "source": [
    "#Extending the parent class functionality to include the different speak methods\n",
    "class Dog():\n",
    "    species= \"Canis familiaris\"\n",
    "\n",
    "    def __init__(self,name,age):\n",
    "        self.name=name\n",
    "        self.age=age\n",
    "    def __str__(self):\n",
    "        return f\"{self.name} is {self.age} years old\"\n",
    "\n",
    "class JackRussellTerrier(Dog):\n",
    "    def speak(self,sound=\"Arf\"):\n",
    "        return f\"{self.name} says {sound}\""
   ]
  },
  {
   "cell_type": "code",
   "execution_count": 95,
   "id": "07a2c0f5",
   "metadata": {},
   "outputs": [
    {
     "name": "stdout",
     "output_type": "stream",
     "text": [
      "Miles says Arf\n"
     ]
    }
   ],
   "source": [
    "miles=JackRussellTerrier(\"Miles\",4)\n",
    "print(miles.speak())\n",
    "    "
   ]
  },
  {
   "cell_type": "code",
   "execution_count": 96,
   "id": "767718a1",
   "metadata": {},
   "outputs": [],
   "source": [
    "class Dachshund(Dog):\n",
    "    def speak(self,sound=\"Yap\"):\n",
    "        return f\"{self.name} says {sound}\""
   ]
  },
  {
   "cell_type": "code",
   "execution_count": 97,
   "id": "62da732b",
   "metadata": {},
   "outputs": [
    {
     "data": {
      "text/plain": [
       "'Buddy says Yap'"
      ]
     },
     "execution_count": 97,
     "metadata": {},
     "output_type": "execute_result"
    }
   ],
   "source": [
    "buddy=Dachshund(\"Buddy\",9)\n",
    "buddy.speak()"
   ]
  },
  {
   "cell_type": "code",
   "execution_count": 98,
   "id": "814dbc67",
   "metadata": {},
   "outputs": [
    {
     "data": {
      "text/plain": [
       "'Miles says Grrr'"
      ]
     },
     "execution_count": 98,
     "metadata": {},
     "output_type": "execute_result"
    }
   ],
   "source": [
    "miles.speak(\"Grrr\")"
   ]
  },
  {
   "cell_type": "code",
   "execution_count": 99,
   "id": "1e2a8957",
   "metadata": {},
   "outputs": [],
   "source": [
    "class Dog:\n",
    "    species= \"Canis familiaris\"\n",
    "\n",
    "    def __init__(self,name,age):\n",
    "        self.name=name\n",
    "        self.age=age\n",
    "    def __str__(self):\n",
    "        return f\"{self.name} is {self.age} years old\"\n",
    "    def speak(self,sound):\n",
    "        return (f\"{self.name} barks: {sound}\")"
   ]
  },
  {
   "cell_type": "code",
   "execution_count": 100,
   "id": "d5040e83",
   "metadata": {},
   "outputs": [],
   "source": [
    "class Bulldog(Dog):\n",
    "    pass"
   ]
  },
  {
   "cell_type": "code",
   "execution_count": 101,
   "id": "202bc524",
   "metadata": {},
   "outputs": [
    {
     "data": {
      "text/plain": [
       "'Jim barks: Woof'"
      ]
     },
     "execution_count": 101,
     "metadata": {},
     "output_type": "execute_result"
    }
   ],
   "source": [
    "jim=Bulldog(\"Jim\",5)\n",
    "jim.speak(\"Woof\")"
   ]
  },
  {
   "cell_type": "code",
   "execution_count": 102,
   "id": "87521a37",
   "metadata": {},
   "outputs": [
    {
     "data": {
      "text/plain": [
       "'Miles says Arf'"
      ]
     },
     "execution_count": 102,
     "metadata": {},
     "output_type": "execute_result"
    }
   ],
   "source": [
    "miles=JackRussellTerrier(\"Miles\",4)\n",
    "miles.speak()"
   ]
  },
  {
   "cell_type": "code",
   "execution_count": 103,
   "id": "9378b1ab",
   "metadata": {},
   "outputs": [],
   "source": [
    "class JackRussellTerrier(Dog):\n",
    "    def speak(self,sound=\"Arf\"):\n",
    "        return super().speak(sound)"
   ]
  },
  {
   "cell_type": "code",
   "execution_count": 104,
   "id": "24244a36",
   "metadata": {},
   "outputs": [
    {
     "data": {
      "text/plain": [
       "'Miles barks: Arf'"
      ]
     },
     "execution_count": 104,
     "metadata": {},
     "output_type": "execute_result"
    }
   ],
   "source": [
    "miles=JackRussellTerrier(\"Miles\",4)\n",
    "miles.speak()"
   ]
  },
  {
   "cell_type": "code",
   "execution_count": 105,
   "id": "3de29df2",
   "metadata": {},
   "outputs": [],
   "source": [
    "#Exercises\n",
    "class Dog:\n",
    "    species=\"Canis familiaris\"\n",
    "    \n",
    "    def __init__(self,name,age):\n",
    "        self.name=name\n",
    "        self.age=age\n",
    "    \n",
    "    def __str__(self):\n",
    "        return f\"{self.name} is {self.age} years old\"\n",
    "    def speak(self,sound):\n",
    "        return f\"{self.name} says {sound}\"\n",
    "\n",
    "class GoldenRetriever(Dog):\n",
    "    def speak(self,sound=\"Bark\"):\n",
    "        return super().speak(sound)\n"
   ]
  },
  {
   "cell_type": "code",
   "execution_count": 106,
   "id": "aecf22d1",
   "metadata": {},
   "outputs": [
    {
     "name": "stdout",
     "output_type": "stream",
     "text": [
      "16\n"
     ]
    }
   ],
   "source": [
    "#Exercise2\n",
    "class Rectangle():\n",
    "    def __init__(self,length,width):\n",
    "        self.length=length\n",
    "        self.width=width\n",
    "    def area(self):\n",
    "        return self.length * self.width\n",
    "    \n",
    "class Square(Rectangle):\n",
    "    def __init__(self,side_length):\n",
    "        super().__init__(side_length, side_length)\n",
    "\n",
    "square=Square(4)\n",
    "print(square.area())"
   ]
  },
  {
   "cell_type": "code",
   "execution_count": null,
   "id": "120e37e9",
   "metadata": {},
   "outputs": [],
   "source": []
  }
 ],
 "metadata": {
  "kernelspec": {
   "display_name": "Python 3",
   "language": "python",
   "name": "python3"
  },
  "language_info": {
   "codemirror_mode": {
    "name": "ipython",
    "version": 3
   },
   "file_extension": ".py",
   "mimetype": "text/x-python",
   "name": "python",
   "nbconvert_exporter": "python",
   "pygments_lexer": "ipython3",
   "version": "3.8.8"
  }
 },
 "nbformat": 4,
 "nbformat_minor": 5
}
