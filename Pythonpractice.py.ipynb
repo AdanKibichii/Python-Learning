{
 "cells": [
  {
   "cell_type": "code",
   "execution_count": 1,
   "id": "3c73bd23",
   "metadata": {},
   "outputs": [
    {
     "name": "stdout",
     "output_type": "stream",
     "text": [
      "Row 1 sum: 3\n",
      "Row 2 sum: 7\n"
     ]
    }
   ],
   "source": [
    "data=((1,2), (3,4))\n",
    "for i in range(len(data)):\n",
    "    print(f\"Row {i+1} sum: {data[i][0] + data[i][1]}\")"
   ]
  },
  {
   "cell_type": "code",
   "execution_count": 2,
   "id": "5f2e1a0d",
   "metadata": {},
   "outputs": [
    {
     "name": "stdout",
     "output_type": "stream",
     "text": [
      "[4, 3, 2, 1]\n",
      "[1, 2, 3, 4]\n"
     ]
    }
   ],
   "source": [
    "numbers=[4,3,2,1]\n",
    "numbers2=numbers[:]\n",
    "numbers.sort()\n",
    "print(numbers2)\n",
    "print(numbers)"
   ]
  },
  {
   "cell_type": "code",
   "execution_count": 4,
   "id": "705d7464",
   "metadata": {},
   "outputs": [
    {
     "name": "stdout",
     "output_type": "stream",
     "text": [
      "\n",
      "\n",
      "******************************\n",
      "Total students:   77,285\n",
      "Total tuition:  $ 271,905\n",
      "\n",
      "Student mean:     11,040.71\n",
      "Student median:   10,566\n",
      "\n",
      "Tuition mean:   $ 38,843.57\n",
      "Tuition median: $ 39,849\n",
      "******************************\n"
     ]
    }
   ],
   "source": [
    "# 9.4 - Challenge: List of Lists\n",
    "# Solution to challenge\n",
    "\n",
    "\n",
    "def enrollment_stats(list_of_universities):\n",
    "\n",
    "    # Variables\n",
    "    total_students = []\n",
    "    total_tuition = []\n",
    "\n",
    "    # Iterate through lists, adding values\n",
    "    for university in list_of_universities:\n",
    "        total_students.append(university[1])\n",
    "        total_tuition.append(university[2])\n",
    "\n",
    "    # Return variables\n",
    "    return total_students, total_tuition\n",
    "\n",
    "\n",
    "def mean(values):\n",
    "    \"\"\"Return the mean value in the list `values`\"\"\"\n",
    "    return sum(values) / len(values)\n",
    "\n",
    "\n",
    "def median(values):\n",
    "    \"\"\"Return the median value of the list `values`\"\"\"\n",
    "    values.sort()\n",
    "    # If the number of valus is odd,\n",
    "    # return the middle value of the list\n",
    "    if len(values) % 2 == 1:\n",
    "        # The value at the center of the list is the value\n",
    "        # at whose index is half of the length of the list,\n",
    "        # rounded down\n",
    "        center_index = int(len(values) / 2)\n",
    "        return values[center_index]\n",
    "    # Otherwise, if the length of the list is even, return\n",
    "    # the mean of the two center values\n",
    "    else:\n",
    "        left_center_index = (len(values) - 1) // 2\n",
    "        right_center_index = (len(values) + 1) // 2\n",
    "        return mean([values[left_center_index], values[right_center_index]])\n",
    "\n",
    "\n",
    "universities = [\n",
    "    [\"California Institute of Technology\", 2175, 37704],\n",
    "    [\"Harvard\", 19627, 39849],\n",
    "    [\"Massachusetts Institute of Technology\", 10566, 40732],\n",
    "    [\"Princeton\", 7802, 37000],\n",
    "    [\"Rice\", 5879, 35551],\n",
    "    [\"Stanford\", 19535, 40569],\n",
    "    [\"Yale\", 11701, 40500],\n",
    "]\n",
    "\n",
    "totals = enrollment_stats(universities)\n",
    "\n",
    "print(\"\\n\")\n",
    "print(\"*****\" * 6)\n",
    "print(f\"Total students:   {sum(totals[0]):,}\")\n",
    "print(f\"Total tuition:  $ {sum(totals[1]):,}\")\n",
    "print(f\"\\nStudent mean:     {mean(totals[0]):,.2f}\")\n",
    "print(f\"Student median:   {median(totals[0]):,}\")\n",
    "print(f\"\\nTuition mean:   $ {mean(totals[1]):,.2f}\")\n",
    "print(f\"Tuition median: $ {median(totals[1]):,}\")\n",
    "print(\"*****\" * 6)"
   ]
  },
  {
   "cell_type": "code",
   "execution_count": 5,
   "id": "d5c3dbb0",
   "metadata": {},
   "outputs": [
    {
     "name": "stdout",
     "output_type": "stream",
     "text": [
      "A balding gorilla\n",
      "\n",
      "A balding gorilla explodes within the furry chef\n",
      "sensuously, the gorilla jingles\n",
      "the chef slurps like a incredulous extrovert\n"
     ]
    }
   ],
   "source": [
    "# 9.5 - Challenge: Wax Poetic\n",
    "# Solution to challenge\n",
    "\n",
    "\n",
    "# Generate a random poem based on a set structure\n",
    "\n",
    "import random\n",
    "\n",
    "noun = [\n",
    "    \"fossil\",\n",
    "    \"horse\",\n",
    "    \"aardvark\",\n",
    "    \"judge\",\n",
    "    \"chef\",\n",
    "    \"mango\",\n",
    "    \"extrovert\",\n",
    "    \"gorilla\",\n",
    "]\n",
    "verb = [\n",
    "    \"kicks\",\n",
    "    \"jingles\",\n",
    "    \"bounces\",\n",
    "    \"slurps\",\n",
    "    \"meows\",\n",
    "    \"explodes\",\n",
    "    \"curdles\",\n",
    "]\n",
    "adjective = [\n",
    "    \"furry\",\n",
    "    \"balding\",\n",
    "    \"incredulous\",\n",
    "    \"fragrant\",\n",
    "    \"exuberant\",\n",
    "    \"glistening\",\n",
    "]\n",
    "preposition = [\n",
    "    \"against\",\n",
    "    \"after\",\n",
    "    \"into\",\n",
    "    \"beneath\",\n",
    "    \"upon\",\n",
    "    \"for\",\n",
    "    \"in\",\n",
    "    \"like\",\n",
    "    \"over\",\n",
    "    \"within\",\n",
    "]\n",
    "adverb = [\n",
    "    \"curiously\",\n",
    "    \"extravagantly\",\n",
    "    \"tantalizingly\",\n",
    "    \"furiously\",\n",
    "    \"sensuously\",\n",
    "]\n",
    "\n",
    "\n",
    "def make_poem():\n",
    "    \"\"\"Create a randomly generated poem, returned as a multi-line string.\"\"\"\n",
    "    # Pull three nouns randomly\n",
    "    n1 = random.choice(noun)\n",
    "    n2 = random.choice(noun)\n",
    "    n3 = random.choice(noun)\n",
    "    # Make sure that all the nouns are different\n",
    "    while n1 == n2:\n",
    "        n2 = random.choice(noun)\n",
    "    while n1 == n3 or n2 == n3:\n",
    "        n3 = random.choice(noun)\n",
    "\n",
    "    # Pull three different verbs\n",
    "    v1 = random.choice(verb)\n",
    "    v2 = random.choice(verb)\n",
    "    v3 = random.choice(verb)\n",
    "    while v1 == v2:\n",
    "        v2 = random.choice(verb)\n",
    "    while v1 == v3 or v2 == v3:\n",
    "        v3 = random.choice(verb)\n",
    "\n",
    "    # Pull three different adjectives\n",
    "    adj1 = random.choice(adjective)\n",
    "    adj2 = random.choice(adjective)\n",
    "    adj3 = random.choice(adjective)\n",
    "    while adj1 == adj2:\n",
    "        adj2 = random.choice(adjective)\n",
    "    while adj1 == adj3 or adj2 == adj3:\n",
    "        adj3 = random.choice(adjective)\n",
    "\n",
    "    # Pull two different prepositions\n",
    "    prep1 = random.choice(preposition)\n",
    "    prep2 = random.choice(preposition)\n",
    "    while prep1 == prep2:\n",
    "        prep2 = random.choice(preposition)\n",
    "\n",
    "    # Pull one adverb\n",
    "    adv1 = random.choice(adverb)\n",
    "\n",
    "    if \"aeiou\".find(adj1[0]) != -1:  # First letter is a vowel\n",
    "        article = \"An\"\n",
    "    else:\n",
    "        article = \"A\"\n",
    "\n",
    "    # Create the poem\n",
    "    poem = (\n",
    "        f\"{article} {adj1} {n1}\\n\\n\"\n",
    "        f\"{article} {adj1} {n1} {v1} {prep1} the {adj2} {n2}\\n\"\n",
    "        f\"{adv1}, the {n1} {v2}\\n\"\n",
    "        f\"the {n2} {v3} {prep2} a {adj3} {n3}\"\n",
    "    )\n",
    "\n",
    "    return poem\n",
    "\n",
    "poem = make_poem()\n",
    "print(poem)"
   ]
  },
  {
   "cell_type": "code",
   "execution_count": 1,
   "id": "1eb01dd7",
   "metadata": {},
   "outputs": [
    {
     "data": {
      "text/plain": [
       "{'California': 'Sacramento', 'New York': 'Albany', 'Texas': 'Austin'}"
      ]
     },
     "execution_count": 1,
     "metadata": {},
     "output_type": "execute_result"
    }
   ],
   "source": [
    "key_value_pairs=(\n",
    "    (\"California\", \"Sacramento\"),\n",
    "    (\"New York\", \"Albany\"),\n",
    "    (\"Texas\", \"Austin\"),\n",
    ")\n",
    "capitals=dict(key_value_pairs)\n",
    "capitals"
   ]
  },
  {
   "cell_type": "code",
   "execution_count": 2,
   "id": "968284d8",
   "metadata": {},
   "outputs": [
    {
     "data": {
      "text/plain": [
       "{}"
      ]
     },
     "execution_count": 2,
     "metadata": {},
     "output_type": "execute_result"
    }
   ],
   "source": [
    "{}"
   ]
  },
  {
   "cell_type": "code",
   "execution_count": 3,
   "id": "f4a267f2",
   "metadata": {},
   "outputs": [
    {
     "data": {
      "text/plain": [
       "{}"
      ]
     },
     "execution_count": 3,
     "metadata": {},
     "output_type": "execute_result"
    }
   ],
   "source": [
    "dict()"
   ]
  },
  {
   "cell_type": "code",
   "execution_count": 4,
   "id": "daddb157",
   "metadata": {},
   "outputs": [
    {
     "data": {
      "text/plain": [
       "'Austin'"
      ]
     },
     "execution_count": 4,
     "metadata": {},
     "output_type": "execute_result"
    }
   ],
   "source": [
    "capitals[\"Texas\"]"
   ]
  },
  {
   "cell_type": "code",
   "execution_count": 5,
   "id": "204be0f0",
   "metadata": {},
   "outputs": [
    {
     "data": {
      "text/plain": [
       "{'California': 'Sacramento',\n",
       " 'New York': 'Albany',\n",
       " 'Texas': 'Austin',\n",
       " 'Colorado': 'Denver'}"
      ]
     },
     "execution_count": 5,
     "metadata": {},
     "output_type": "execute_result"
    }
   ],
   "source": [
    "#adding a new key and value to a dictionary\n",
    "capitals[\"Colorado\"]=\"Denver\"\n",
    "capitals"
   ]
  },
  {
   "cell_type": "code",
   "execution_count": 6,
   "id": "2d84d700",
   "metadata": {},
   "outputs": [
    {
     "data": {
      "text/plain": [
       "{'California': 'Sacramento',\n",
       " 'New York': 'Albany',\n",
       " 'Texas': 'Houston',\n",
       " 'Colorado': 'Denver'}"
      ]
     },
     "execution_count": 6,
     "metadata": {},
     "output_type": "execute_result"
    }
   ],
   "source": [
    "capitals[\"Texas\"]=\"Houston\"\n",
    "capitals"
   ]
  },
  {
   "cell_type": "code",
   "execution_count": 7,
   "id": "b67527bc",
   "metadata": {},
   "outputs": [
    {
     "data": {
      "text/plain": [
       "{'California': 'Sacramento', 'New York': 'Albany', 'Colorado': 'Denver'}"
      ]
     },
     "execution_count": 7,
     "metadata": {},
     "output_type": "execute_result"
    }
   ],
   "source": [
    "#deleting dictionaries\n",
    "del capitals[\"Texas\"]\n",
    "capitals"
   ]
  },
  {
   "cell_type": "code",
   "execution_count": 8,
   "id": "74a1bd0f",
   "metadata": {},
   "outputs": [
    {
     "name": "stdout",
     "output_type": "stream",
     "text": [
      "The capital of California is Sacramento\n"
     ]
    }
   ],
   "source": [
    "if \"California\" in capitals:\n",
    "    print(f\"The capital of California is {capitals['California']}\")"
   ]
  },
  {
   "cell_type": "code",
   "execution_count": 9,
   "id": "e877296c",
   "metadata": {},
   "outputs": [
    {
     "name": "stdout",
     "output_type": "stream",
     "text": [
      "California\n",
      "New York\n",
      "Colorado\n"
     ]
    }
   ],
   "source": [
    "#iterating over dictionary keys\n",
    "for key in capitals:\n",
    "    print(key)"
   ]
  },
  {
   "cell_type": "code",
   "execution_count": 10,
   "id": "1bddc113",
   "metadata": {},
   "outputs": [
    {
     "name": "stdout",
     "output_type": "stream",
     "text": [
      "The capital of California is Sacramento\n",
      "The capital of New York is Albany\n",
      "The capital of Colorado is Denver\n"
     ]
    }
   ],
   "source": [
    "for state in capitals:\n",
    "    print(f\"The capital of {state} is {capitals[state]}\")"
   ]
  },
  {
   "cell_type": "code",
   "execution_count": 12,
   "id": "2fed3af2",
   "metadata": {},
   "outputs": [
    {
     "data": {
      "text/plain": [
       "dict_items([('California', 'Sacramento'), ('New York', 'Albany'), ('Colorado', 'Denver')])"
      ]
     },
     "execution_count": 12,
     "metadata": {},
     "output_type": "execute_result"
    }
   ],
   "source": [
    "capitals.items()"
   ]
  },
  {
   "cell_type": "code",
   "execution_count": 13,
   "id": "b3069908",
   "metadata": {},
   "outputs": [
    {
     "data": {
      "text/plain": [
       "dict_items"
      ]
     },
     "execution_count": 13,
     "metadata": {},
     "output_type": "execute_result"
    }
   ],
   "source": [
    "type(capitals.items())"
   ]
  },
  {
   "cell_type": "code",
   "execution_count": 14,
   "id": "bd9a67c3",
   "metadata": {},
   "outputs": [
    {
     "name": "stdout",
     "output_type": "stream",
     "text": [
      "The capital of California is Sacramento\n",
      "The capital of New York is Albany\n",
      "The capital of Colorado is Denver\n"
     ]
    }
   ],
   "source": [
    "for state, capital in capitals.items():\n",
    "    print(f\"The capital of {state} is {capitals[state]}\")"
   ]
  },
  {
   "cell_type": "code",
   "execution_count": 15,
   "id": "e2ae64df",
   "metadata": {},
   "outputs": [
    {
     "data": {
      "text/plain": [
       "{'California': 'Sacramento',\n",
       " 'New York': 'Albany',\n",
       " 'Colorado': 'Denver',\n",
       " 10: 'Honolulu'}"
      ]
     },
     "execution_count": 15,
     "metadata": {},
     "output_type": "execute_result"
    }
   ],
   "source": [
    "#adding integers to the dictionary\n",
    "capitals[10]=\"Honolulu\"\n",
    "capitals"
   ]
  },
  {
   "cell_type": "code",
   "execution_count": 20,
   "id": "c7be5324",
   "metadata": {},
   "outputs": [
    {
     "data": {
      "text/plain": [
       "{'capital': 'Austin', 'flower': 'Bluebonnet'}"
      ]
     },
     "execution_count": 20,
     "metadata": {},
     "output_type": "execute_result"
    }
   ],
   "source": [
    "states={\n",
    "    \"California\": {\n",
    "        \"capital\": \"Sacramento\",\n",
    "        \"flower\": \"California Poppy\"\n",
    "    },\n",
    "    \"New York\": {\n",
    "        \"capital\": \"Albany\",\n",
    "        \"flower\": \"Rose\"\n",
    "    },\n",
    "    \"Texas\": {\n",
    "        \"capital\": \"Austin\",\n",
    "        \"flower\": \"Bluebonnet\"\n",
    "    },\n",
    "}\n",
    "states[\"Texas\"]"
   ]
  },
  {
   "cell_type": "code",
   "execution_count": 22,
   "id": "cf918938",
   "metadata": {},
   "outputs": [
    {
     "data": {
      "text/plain": [
       "'Bluebonnet'"
      ]
     },
     "execution_count": 22,
     "metadata": {},
     "output_type": "execute_result"
    }
   ],
   "source": [
    "states[\"Texas\"][\"flower\"]"
   ]
  },
  {
   "cell_type": "code",
   "execution_count": 23,
   "id": "e267390b",
   "metadata": {},
   "outputs": [
    {
     "data": {
      "text/plain": [
       "{}"
      ]
     },
     "execution_count": 23,
     "metadata": {},
     "output_type": "execute_result"
    }
   ],
   "source": [
    "captains={}\n",
    "captains"
   ]
  },
  {
   "cell_type": "code",
   "execution_count": 27,
   "id": "dfb912de",
   "metadata": {},
   "outputs": [
    {
     "data": {
      "text/plain": [
       "{'Enterprise': 'Picard', 'Voyager': 'Janeway', 'Defiant': 'Sisko'}"
      ]
     },
     "execution_count": 27,
     "metadata": {},
     "output_type": "execute_result"
    }
   ],
   "source": [
    "captains={\n",
    "    'Enterprise': 'Picard',\n",
    "    'Voyager': 'Janeway',\n",
    "    'Defiant': 'Sisko'\n",
    "}\n",
    "captains"
   ]
  },
  {
   "cell_type": "code",
   "execution_count": 30,
   "id": "76e45399",
   "metadata": {},
   "outputs": [
    {
     "name": "stdout",
     "output_type": "stream",
     "text": [
      "Yes Enterprise is in captains\n"
     ]
    }
   ],
   "source": [
    "if 'Enterprise' in captains:\n",
    "    print(\"Yes Enterprise is in captains\")\n",
    "else:\n",
    "    print(\"unknown\")"
   ]
  },
  {
   "cell_type": "code",
   "execution_count": 31,
   "id": "b18de7de",
   "metadata": {},
   "outputs": [
    {
     "name": "stdout",
     "output_type": "stream",
     "text": [
      "unknown\n"
     ]
    }
   ],
   "source": [
    "if 'Discovery' in captains:\n",
    "    print(\"Yes Discovery is in captains\")\n",
    "else:\n",
    "    print(\"unknown\")"
   ]
  },
  {
   "cell_type": "code",
   "execution_count": 35,
   "id": "d0685dbf",
   "metadata": {},
   "outputs": [
    {
     "name": "stdout",
     "output_type": "stream",
     "text": [
      "The Enterprise is captained by Picard\n",
      "The Voyager is captained by Janeway\n",
      "The Defiant is captained by Sisko\n"
     ]
    }
   ],
   "source": [
    "for ship, captain in captains.items():\n",
    "    print(f\"The {ship} is captained by {captain}\")"
   ]
  },
  {
   "cell_type": "code",
   "execution_count": 37,
   "id": "5c4fbc9a",
   "metadata": {},
   "outputs": [
    {
     "data": {
      "text/plain": [
       "{'Enterprise': 'Picard',\n",
       " 'Voyager': 'Janeway',\n",
       " 'Defiant': 'Sisko',\n",
       " 'Discovery': 0}"
      ]
     },
     "execution_count": 37,
     "metadata": {},
     "output_type": "execute_result"
    }
   ],
   "source": [
    "captains[\"Discovery\"]=0\n",
    "captains"
   ]
  },
  {
   "cell_type": "code",
   "execution_count": 41,
   "id": "511ed0b0",
   "metadata": {},
   "outputs": [
    {
     "name": "stdout",
     "output_type": "stream",
     "text": [
      "The Enterprise is captained by Picard\n",
      "The Voyager is captained by Janeway\n",
      "The Defiant is captained by Sisko\n"
     ]
    }
   ],
   "source": [
    "for state, captain in captains.items():\n",
    "    print(f\"The {state} is captained by {captain}\")"
   ]
  },
  {
   "cell_type": "code",
   "execution_count": null,
   "id": "f5f779b1",
   "metadata": {},
   "outputs": [],
   "source": [
    "import random\n",
    "captains_dict={\n",
    "    'Alabama': 'Montgomery',\n",
    "    'Alaska': 'Juneau',\n",
    "    'Arizona': 'Phoenix',\n",
    "    'Arkansas': 'Little Rock',\n",
    "    'California': 'Sacramento',\n",
    "    'Colorado': 'Denver',\n",
    "    'Connecticut': 'Hartford',\n",
    "    'Delaware': 'Dover',\n",
    "    'Florida': 'Tallahassee',\n",
    "    'Georgia': 'Atlanta',\n",
    "}\n",
    "\n",
    "state, capital=random.choice(list(captains_dict.items()))\n",
    "\n",
    "while True:\n",
    "    guess=input(f\"What is the capital of '{state}'?\").lower()\n",
    "    if guess==\"exit\":\n",
    "        print(f\"The capital of '{state}' is '{capital}'.\")\n",
    "        print(\"Goodbye\")\n",
    "        break\n",
    "    elif guess==capital.lower():\n",
    "        print(\"Correct! Nice Job.\")\n",
    "        break\n",
    "    "
   ]
  },
  {
   "cell_type": "code",
   "execution_count": 2,
   "id": "23604dd1",
   "metadata": {},
   "outputs": [
    {
     "name": "stdout",
     "output_type": "stream",
     "text": [
      "[1, 4, 9, 16, 25, 36, 49, 64, 81, 100]\n"
     ]
    }
   ],
   "source": [
    "#challenge cats with hats 1\n",
    "def get_cats_with_hats(array_of_cats):\n",
    "    cats_with_hats_on=[]\n",
    "    for num in range(1,100+1):\n",
    "        for cat in range(1,100+1):\n",
    "            if cat%num==0:\n",
    "                if array_of_cats[cat]is True:\n",
    "                    array_of_cats[cat]=False\n",
    "                else:\n",
    "                    array_of_cats[cat]=True\n",
    "    for cat in range(1,100+1):\n",
    "        if cats[cat] is True:\n",
    "            cats_with_hats_on.append(cat)\n",
    "    return cats_with_hats_on\n",
    "\n",
    "\n",
    "cats=[False]*(100+1)\n",
    "print(get_cats_with_hats(cats))"
   ]
  },
  {
   "cell_type": "code",
   "execution_count": 5,
   "id": "eca6df82",
   "metadata": {},
   "outputs": [
    {
     "name": "stdout",
     "output_type": "stream",
     "text": [
      "[1, 4, 9, 16, 25, 36, 49, 64, 81, 100]\n"
     ]
    }
   ],
   "source": [
    "#cats with hats 2\n",
    "number_of_cats=100\n",
    "cats_with_hats=[]\n",
    "number_of_laps=100\n",
    "#laps to begin from 1 not zero\n",
    "for lap in range(1, number_of_laps+1):\n",
    "    for cat in range(1,number_of_cats+1):\n",
    "        #only look at the cats divisible by the lap\n",
    "        if cat%lap==0:\n",
    "            if cat in cats_with_hats:\n",
    "                cats_with_hats.remove(cat)\n",
    "            else:\n",
    "                cats_with_hats.append(cat)\n",
    "print(cats_with_hats)"
   ]
  },
  {
   "cell_type": "code",
   "execution_count": 4,
   "id": "6eb9e14d",
   "metadata": {},
   "outputs": [
    {
     "name": "stdout",
     "output_type": "stream",
     "text": [
      "Cat 1 has a hat\n",
      "Cat 2 is hatless!\n",
      "Cat 3 is hatless!\n",
      "Cat 4 has a hat\n",
      "Cat 5 is hatless!\n",
      "Cat 6 is hatless!\n",
      "Cat 7 is hatless!\n",
      "Cat 8 is hatless!\n",
      "Cat 9 has a hat\n",
      "Cat 10 is hatless!\n",
      "Cat 11 is hatless!\n",
      "Cat 12 is hatless!\n",
      "Cat 13 is hatless!\n",
      "Cat 14 is hatless!\n",
      "Cat 15 is hatless!\n",
      "Cat 16 has a hat\n",
      "Cat 17 is hatless!\n",
      "Cat 18 is hatless!\n",
      "Cat 19 is hatless!\n",
      "Cat 20 is hatless!\n",
      "Cat 21 is hatless!\n",
      "Cat 22 is hatless!\n",
      "Cat 23 is hatless!\n",
      "Cat 24 is hatless!\n",
      "Cat 25 has a hat\n",
      "Cat 26 is hatless!\n",
      "Cat 27 is hatless!\n",
      "Cat 28 is hatless!\n",
      "Cat 29 is hatless!\n",
      "Cat 30 is hatless!\n",
      "Cat 31 is hatless!\n",
      "Cat 32 is hatless!\n",
      "Cat 33 is hatless!\n",
      "Cat 34 is hatless!\n",
      "Cat 35 is hatless!\n",
      "Cat 36 has a hat\n",
      "Cat 37 is hatless!\n",
      "Cat 38 is hatless!\n",
      "Cat 39 is hatless!\n",
      "Cat 40 is hatless!\n",
      "Cat 41 is hatless!\n",
      "Cat 42 is hatless!\n",
      "Cat 43 is hatless!\n",
      "Cat 44 is hatless!\n",
      "Cat 45 is hatless!\n",
      "Cat 46 is hatless!\n",
      "Cat 47 is hatless!\n",
      "Cat 48 is hatless!\n",
      "Cat 49 has a hat\n",
      "Cat 50 is hatless!\n",
      "Cat 51 is hatless!\n",
      "Cat 52 is hatless!\n",
      "Cat 53 is hatless!\n",
      "Cat 54 is hatless!\n",
      "Cat 55 is hatless!\n",
      "Cat 56 is hatless!\n",
      "Cat 57 is hatless!\n",
      "Cat 58 is hatless!\n",
      "Cat 59 is hatless!\n",
      "Cat 60 is hatless!\n",
      "Cat 61 is hatless!\n",
      "Cat 62 is hatless!\n",
      "Cat 63 is hatless!\n",
      "Cat 64 has a hat\n",
      "Cat 65 is hatless!\n",
      "Cat 66 is hatless!\n",
      "Cat 67 is hatless!\n",
      "Cat 68 is hatless!\n",
      "Cat 69 is hatless!\n",
      "Cat 70 is hatless!\n",
      "Cat 71 is hatless!\n",
      "Cat 72 is hatless!\n",
      "Cat 73 is hatless!\n",
      "Cat 74 is hatless!\n",
      "Cat 75 is hatless!\n",
      "Cat 76 is hatless!\n",
      "Cat 77 is hatless!\n",
      "Cat 78 is hatless!\n",
      "Cat 79 is hatless!\n",
      "Cat 80 is hatless!\n",
      "Cat 81 has a hat\n",
      "Cat 82 is hatless!\n",
      "Cat 83 is hatless!\n",
      "Cat 84 is hatless!\n",
      "Cat 85 is hatless!\n",
      "Cat 86 is hatless!\n",
      "Cat 87 is hatless!\n",
      "Cat 88 is hatless!\n",
      "Cat 89 is hatless!\n",
      "Cat 90 is hatless!\n",
      "Cat 91 is hatless!\n",
      "Cat 92 is hatless!\n",
      "Cat 93 is hatless!\n",
      "Cat 94 is hatless!\n",
      "Cat 95 is hatless!\n",
      "Cat 96 is hatless!\n",
      "Cat 97 is hatless!\n",
      "Cat 98 is hatless!\n",
      "Cat 99 is hatless!\n",
      "Cat 100 has a hat\n"
     ]
    }
   ],
   "source": [
    "#cats with hats 3 using dictionaries\n",
    "theCats={}\n",
    "for i in range(1,101):\n",
    "    theCats[i]=False\n",
    "\n",
    "for i in range(1,101):\n",
    "    for cats, hats in theCats.items():\n",
    "        if cats%i==0:\n",
    "            if theCats[cats]:\n",
    "                theCats[cats]=False\n",
    "            else:\n",
    "                theCats[cats]=True\n",
    "for cats, hats in theCats.items():\n",
    "    if theCats[cats]:\n",
    "        print(f\"Cat {cats} has a hat\")\n",
    "    else:\n",
    "        print(f\"Cat {cats} is hatless!\")"
   ]
  },
  {
   "cell_type": "code",
   "execution_count": null,
   "id": "fa86c9e6",
   "metadata": {},
   "outputs": [],
   "source": []
  },
  {
   "cell_type": "code",
   "execution_count": null,
   "id": "c62812f1",
   "metadata": {},
   "outputs": [],
   "source": []
  }
 ],
 "metadata": {
  "kernelspec": {
   "display_name": "Python 3",
   "language": "python",
   "name": "python3"
  },
  "language_info": {
   "codemirror_mode": {
    "name": "ipython",
    "version": 3
   },
   "file_extension": ".py",
   "mimetype": "text/x-python",
   "name": "python",
   "nbconvert_exporter": "python",
   "pygments_lexer": "ipython3",
   "version": "3.8.8"
  }
 },
 "nbformat": 4,
 "nbformat_minor": 5
}
