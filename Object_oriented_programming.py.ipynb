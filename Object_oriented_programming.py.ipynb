{
 "cells": [
  {
   "cell_type": "code",
   "execution_count": 1,
   "id": "31efbbaa",
   "metadata": {},
   "outputs": [],
   "source": [
    "class Dog:\n",
    "    #class atrribute\n",
    "    species=\"Canis familiaris\"\n",
    "    def __init__(self,name,age):\n",
    "        self.name=name\n",
    "        self.age=age"
   ]
  },
  {
   "cell_type": "code",
   "execution_count": 2,
   "id": "7fca54ba",
   "metadata": {},
   "outputs": [],
   "source": [
    "class Dog:\n",
    "    pass"
   ]
  },
  {
   "cell_type": "code",
   "execution_count": 3,
   "id": "dd5e8787",
   "metadata": {},
   "outputs": [
    {
     "data": {
      "text/plain": [
       "<__main__.Dog at 0x13c253960a0>"
      ]
     },
     "execution_count": 3,
     "metadata": {},
     "output_type": "execute_result"
    }
   ],
   "source": [
    "Dog()"
   ]
  },
  {
   "cell_type": "code",
   "execution_count": 4,
   "id": "69de0f57",
   "metadata": {},
   "outputs": [
    {
     "data": {
      "text/plain": [
       "False"
      ]
     },
     "execution_count": 4,
     "metadata": {},
     "output_type": "execute_result"
    }
   ],
   "source": [
    "a=Dog()\n",
    "b=Dog()\n",
    "a==b"
   ]
  },
  {
   "cell_type": "code",
   "execution_count": 5,
   "id": "61022161",
   "metadata": {},
   "outputs": [
    {
     "data": {
      "text/plain": [
       "__main__.Dog"
      ]
     },
     "execution_count": 5,
     "metadata": {},
     "output_type": "execute_result"
    }
   ],
   "source": [
    "type(a)"
   ]
  },
  {
   "cell_type": "code",
   "execution_count": 6,
   "id": "0e8ce7f8",
   "metadata": {},
   "outputs": [
    {
     "data": {
      "text/plain": [
       "__main__.Dog"
      ]
     },
     "execution_count": 6,
     "metadata": {},
     "output_type": "execute_result"
    }
   ],
   "source": [
    "type(b)"
   ]
  },
  {
   "cell_type": "code",
   "execution_count": 7,
   "id": "e065573c",
   "metadata": {},
   "outputs": [
    {
     "data": {
      "text/plain": [
       "True"
      ]
     },
     "execution_count": 7,
     "metadata": {},
     "output_type": "execute_result"
    }
   ],
   "source": [
    "type(a)==type(b)"
   ]
  },
  {
   "cell_type": "code",
   "execution_count": 8,
   "id": "04226d92",
   "metadata": {},
   "outputs": [],
   "source": [
    "class Dog:\n",
    "    #class atrribute\n",
    "    species=\"Canis familiaris\"\n",
    "    def __init__(self,name,age):\n",
    "        self.name=name\n",
    "        self.age=age\n",
    "buddy=Dog(\"Buddy\",9)\n",
    "miles=Dog(\"Miles\",4)"
   ]
  },
  {
   "cell_type": "code",
   "execution_count": 9,
   "id": "b01a7733",
   "metadata": {},
   "outputs": [
    {
     "data": {
      "text/plain": [
       "'Buddy'"
      ]
     },
     "execution_count": 9,
     "metadata": {},
     "output_type": "execute_result"
    }
   ],
   "source": [
    "buddy.name"
   ]
  },
  {
   "cell_type": "code",
   "execution_count": 10,
   "id": "a5113ef6",
   "metadata": {},
   "outputs": [
    {
     "data": {
      "text/plain": [
       "9"
      ]
     },
     "execution_count": 10,
     "metadata": {},
     "output_type": "execute_result"
    }
   ],
   "source": [
    "buddy.age"
   ]
  },
  {
   "cell_type": "code",
   "execution_count": 11,
   "id": "85aa3dae",
   "metadata": {},
   "outputs": [
    {
     "data": {
      "text/plain": [
       "'Miles'"
      ]
     },
     "execution_count": 11,
     "metadata": {},
     "output_type": "execute_result"
    }
   ],
   "source": [
    "miles.name"
   ]
  },
  {
   "cell_type": "code",
   "execution_count": 12,
   "id": "e3fe4f4e",
   "metadata": {},
   "outputs": [
    {
     "data": {
      "text/plain": [
       "4"
      ]
     },
     "execution_count": 12,
     "metadata": {},
     "output_type": "execute_result"
    }
   ],
   "source": [
    "miles.age"
   ]
  },
  {
   "cell_type": "code",
   "execution_count": 13,
   "id": "0b407a12",
   "metadata": {},
   "outputs": [
    {
     "data": {
      "text/plain": [
       "'Canis familiaris'"
      ]
     },
     "execution_count": 13,
     "metadata": {},
     "output_type": "execute_result"
    }
   ],
   "source": [
    "miles.species"
   ]
  },
  {
   "cell_type": "code",
   "execution_count": 14,
   "id": "b944ecd3",
   "metadata": {},
   "outputs": [
    {
     "data": {
      "text/plain": [
       "'Canis familiaris'"
      ]
     },
     "execution_count": 14,
     "metadata": {},
     "output_type": "execute_result"
    }
   ],
   "source": [
    "buddy.species"
   ]
  },
  {
   "cell_type": "code",
   "execution_count": 15,
   "id": "2d83744a",
   "metadata": {},
   "outputs": [
    {
     "data": {
      "text/plain": [
       "True"
      ]
     },
     "execution_count": 15,
     "metadata": {},
     "output_type": "execute_result"
    }
   ],
   "source": [
    "buddy.species==miles.species"
   ]
  },
  {
   "cell_type": "code",
   "execution_count": 16,
   "id": "eb931c50",
   "metadata": {},
   "outputs": [
    {
     "data": {
      "text/plain": [
       "10"
      ]
     },
     "execution_count": 16,
     "metadata": {},
     "output_type": "execute_result"
    }
   ],
   "source": [
    "buddy.age=10\n",
    "buddy.age"
   ]
  },
  {
   "cell_type": "code",
   "execution_count": 17,
   "id": "d872c783",
   "metadata": {},
   "outputs": [
    {
     "data": {
      "text/plain": [
       "'Felis silvestris'"
      ]
     },
     "execution_count": 17,
     "metadata": {},
     "output_type": "execute_result"
    }
   ],
   "source": [
    "miles.species=\"Felis silvestris\"\n",
    "miles.species"
   ]
  },
  {
   "cell_type": "code",
   "execution_count": 18,
   "id": "cb6704fa",
   "metadata": {},
   "outputs": [],
   "source": [
    "#instance methods\n",
    "class Dog:\n",
    "    #class atrribute\n",
    "    species=\"Canis familiaris\"\n",
    "    def __init__(self,name,age):\n",
    "        self.name=name\n",
    "        self.age=age\n",
    "    #first instance method\n",
    "    def description(self):\n",
    "        return f\"{self.name} is {self.age} years old\"\n",
    "    #second instance method\n",
    "    def speak(self,sound):\n",
    "        return f\"{self.name} says {sound}\""
   ]
  },
  {
   "cell_type": "code",
   "execution_count": 19,
   "id": "6686110c",
   "metadata": {},
   "outputs": [],
   "source": [
    "miles=Dog(\"Miles\",4)"
   ]
  },
  {
   "cell_type": "markdown",
   "id": "3acd812b",
   "metadata": {},
   "source": [
    "miles.description()"
   ]
  },
  {
   "cell_type": "code",
   "execution_count": 20,
   "id": "e2aff84d",
   "metadata": {},
   "outputs": [
    {
     "data": {
      "text/plain": [
       "'Miles is 4 years old'"
      ]
     },
     "execution_count": 20,
     "metadata": {},
     "output_type": "execute_result"
    }
   ],
   "source": [
    "miles.description()"
   ]
  },
  {
   "cell_type": "code",
   "execution_count": 21,
   "id": "5da25d16",
   "metadata": {},
   "outputs": [
    {
     "data": {
      "text/plain": [
       "'Miles says Woof Woof'"
      ]
     },
     "execution_count": 21,
     "metadata": {},
     "output_type": "execute_result"
    }
   ],
   "source": [
    "miles.speak(\"Woof Woof\")"
   ]
  },
  {
   "cell_type": "code",
   "execution_count": 22,
   "id": "d1cd9130",
   "metadata": {},
   "outputs": [
    {
     "data": {
      "text/plain": [
       "'Miles says Bow Bow'"
      ]
     },
     "execution_count": 22,
     "metadata": {},
     "output_type": "execute_result"
    }
   ],
   "source": [
    "miles.speak(\"Bow Bow\")"
   ]
  },
  {
   "cell_type": "code",
   "execution_count": 23,
   "id": "1964f275",
   "metadata": {},
   "outputs": [
    {
     "name": "stdout",
     "output_type": "stream",
     "text": [
      "<__main__.Dog object at 0x0000013C25396220>\n"
     ]
    }
   ],
   "source": [
    "print(miles)"
   ]
  },
  {
   "cell_type": "code",
   "execution_count": 24,
   "id": "4467782a",
   "metadata": {},
   "outputs": [],
   "source": [
    "class Dog:\n",
    "    #class atrribute\n",
    "    species=\"Canis familiaris\"\n",
    "    def __init__(self,name,age):\n",
    "        self.name=name\n",
    "        self.age=age\n",
    "    #first instance method\n",
    "    def __str__(self):\n",
    "        return f\"{self.name} is {self.age} years old\""
   ]
  },
  {
   "cell_type": "code",
   "execution_count": 25,
   "id": "f07337d4",
   "metadata": {},
   "outputs": [
    {
     "name": "stdout",
     "output_type": "stream",
     "text": [
      "Miles is 4 years old\n"
     ]
    }
   ],
   "source": [
    "miles=Dog(\"Miles\",4)\n",
    "print(miles)"
   ]
  },
  {
   "cell_type": "code",
   "execution_count": 28,
   "id": "ea78ad8b",
   "metadata": {},
   "outputs": [],
   "source": [
    "#Ex1\n",
    "class Dog:\n",
    "    #class atrribute\n",
    "    species=\"Canis familiaris\"\n",
    "    def __init__(self,name,age,coat_color):\n",
    "        self.name=name\n",
    "        self.age=age\n",
    "        self.coat_color=coat_color"
   ]
  },
  {
   "cell_type": "code",
   "execution_count": 30,
   "id": "9bc188ed",
   "metadata": {},
   "outputs": [
    {
     "name": "stdout",
     "output_type": "stream",
     "text": [
      "Philo's coat is brown.\n"
     ]
    }
   ],
   "source": [
    "philo = Dog(\"Philo\", 5, \"brown\")\n",
    "print(f\"{philo.name}'s coat is {philo.coat_color}.\")"
   ]
  },
  {
   "cell_type": "code",
   "execution_count": 33,
   "id": "6f122a86",
   "metadata": {},
   "outputs": [],
   "source": [
    "#EX2\n",
    "class Car:\n",
    "    def __init__(self,color,mileage):\n",
    "        self.color=color\n",
    "        self.mileage=mileage\n",
    "blue_car=Car(\"blue\",20000)\n",
    "red_car=Car(\"red\",30000)"
   ]
  },
  {
   "cell_type": "code",
   "execution_count": 36,
   "id": "3c4c4eb9",
   "metadata": {},
   "outputs": [
    {
     "name": "stdout",
     "output_type": "stream",
     "text": [
      "The blue car has 20,000 miles.\n",
      "The red car has 30,000 miles.\n"
     ]
    }
   ],
   "source": [
    "print(f\"The {blue_car.color} car has {blue_car.mileage:,} miles.\")\n",
    "print(f\"The {red_car.color} car has {red_car.mileage:,} miles.\")"
   ]
  },
  {
   "cell_type": "code",
   "execution_count": 37,
   "id": "8c06d165",
   "metadata": {},
   "outputs": [],
   "source": [
    "#EX3\n",
    "class Car:\n",
    "    def __init__(self,color,mileage):\n",
    "        self.color=color\n",
    "        self.mileage=mileage\n",
    "    def drive(self,miles):\n",
    "        self.mileage=self.mileage+miles"
   ]
  },
  {
   "cell_type": "code",
   "execution_count": 38,
   "id": "3efb0907",
   "metadata": {},
   "outputs": [
    {
     "name": "stdout",
     "output_type": "stream",
     "text": [
      "100\n"
     ]
    }
   ],
   "source": [
    "blue_car=Car(\"blue\",0)\n",
    "blue_car.drive(100)\n",
    "print(blue_car.mileage)"
   ]
  },
  {
   "cell_type": "code",
   "execution_count": 41,
   "id": "fd1f0d17",
   "metadata": {},
   "outputs": [],
   "source": [
    "#child classes\n",
    "class Dog:\n",
    "    species=\"Canis familiaris\"\n",
    "    def __init__(self,name,age,breed):\n",
    "        self.name=name\n",
    "        self.age=age\n",
    "        self.breed=breed\n",
    "    def speak(self,sound):\n",
    "        return f\"{self.name} says {sound}\""
   ]
  },
  {
   "cell_type": "code",
   "execution_count": 42,
   "id": "8c23407f",
   "metadata": {},
   "outputs": [],
   "source": [
    "miles = Dog(\"Miles\", 4, \"Jack Russell Terrier\")\n",
    "buddy = Dog(\"Buddy\", 9, \"Dachshund\")\n",
    "jack = Dog(\"Jack\", 3, \"Bulldog\")\n",
    "jim = Dog(\"Jim\", 5, \"Bulldog\")"
   ]
  },
  {
   "cell_type": "code",
   "execution_count": 43,
   "id": "8f8bed2d",
   "metadata": {},
   "outputs": [
    {
     "data": {
      "text/plain": [
       "'Buddy says Yap'"
      ]
     },
     "execution_count": 43,
     "metadata": {},
     "output_type": "execute_result"
    }
   ],
   "source": [
    "buddy.speak(\"Yap\")"
   ]
  },
  {
   "cell_type": "code",
   "execution_count": 44,
   "id": "f1b7e5c4",
   "metadata": {},
   "outputs": [
    {
     "data": {
      "text/plain": [
       "'Jim says Woof'"
      ]
     },
     "execution_count": 44,
     "metadata": {},
     "output_type": "execute_result"
    }
   ],
   "source": [
    "jim.speak(\"Woof\")"
   ]
  },
  {
   "cell_type": "code",
   "execution_count": 45,
   "id": "74b6f2bd",
   "metadata": {},
   "outputs": [
    {
     "data": {
      "text/plain": [
       "'Jack says Woof'"
      ]
     },
     "execution_count": 45,
     "metadata": {},
     "output_type": "execute_result"
    }
   ],
   "source": [
    "jack.speak(\"Woof\")"
   ]
  },
  {
   "cell_type": "code",
   "execution_count": 46,
   "id": "71a9c3d9",
   "metadata": {},
   "outputs": [],
   "source": [
    "#Parent Classes vs Child Classes\n",
    "class Dog:\n",
    "    species = \"Canis familiaris\"\n",
    "    \n",
    "    def __init__(self, name, age):\n",
    "        self.name = name\n",
    "        self.age = age\n",
    "    \n",
    "    def __str__(self):\n",
    "        return f\"{self.name} is {self.age} years old\"\n",
    "    \n",
    "    def speak(self, sound):\n",
    "        return f\"{self.name} says {sound}\"\n",
    "    \n",
    "class JackRussellTerrier(Dog):\n",
    "    pass\n",
    "class Dachshund(Dog):\n",
    "    pass\n",
    "class Bulldog(Dog):\n",
    "    pass"
   ]
  },
  {
   "cell_type": "code",
   "execution_count": 47,
   "id": "b95a6b57",
   "metadata": {},
   "outputs": [],
   "source": [
    "miles = JackRussellTerrier(\"Miles\", 4)\n",
    "buddy = Dachshund(\"Buddy\", 9)\n",
    "jack = Bulldog(\"Jack\", 3)\n",
    "jim = Bulldog(\"Jim\", 5)"
   ]
  },
  {
   "cell_type": "markdown",
   "id": "1498bf4d",
   "metadata": {},
   "source": []
  },
  {
   "cell_type": "code",
   "execution_count": 48,
   "id": "f17f222b",
   "metadata": {},
   "outputs": [
    {
     "data": {
      "text/plain": [
       "'Canis familiaris'"
      ]
     },
     "execution_count": 48,
     "metadata": {},
     "output_type": "execute_result"
    }
   ],
   "source": [
    "miles.species"
   ]
  },
  {
   "cell_type": "code",
   "execution_count": 49,
   "id": "74375aa4",
   "metadata": {},
   "outputs": [
    {
     "data": {
      "text/plain": [
       "'Buddy'"
      ]
     },
     "execution_count": 49,
     "metadata": {},
     "output_type": "execute_result"
    }
   ],
   "source": [
    "buddy.name"
   ]
  },
  {
   "cell_type": "code",
   "execution_count": 50,
   "id": "bc247104",
   "metadata": {},
   "outputs": [
    {
     "name": "stdout",
     "output_type": "stream",
     "text": [
      "Jack is 3 years old\n"
     ]
    }
   ],
   "source": [
    "print(jack)"
   ]
  },
  {
   "cell_type": "code",
   "execution_count": 51,
   "id": "fff4552d",
   "metadata": {},
   "outputs": [
    {
     "data": {
      "text/plain": [
       "'Jim says Woof'"
      ]
     },
     "execution_count": 51,
     "metadata": {},
     "output_type": "execute_result"
    }
   ],
   "source": [
    "jim.speak(\"Woof\")"
   ]
  },
  {
   "cell_type": "code",
   "execution_count": 52,
   "id": "6b5b258d",
   "metadata": {},
   "outputs": [
    {
     "data": {
      "text/plain": [
       "__main__.JackRussellTerrier"
      ]
     },
     "execution_count": 52,
     "metadata": {},
     "output_type": "execute_result"
    }
   ],
   "source": [
    "type(miles)"
   ]
  },
  {
   "cell_type": "code",
   "execution_count": 53,
   "id": "38e9bbc5",
   "metadata": {},
   "outputs": [
    {
     "data": {
      "text/plain": [
       "True"
      ]
     },
     "execution_count": 53,
     "metadata": {},
     "output_type": "execute_result"
    }
   ],
   "source": [
    "isinstance(miles,Dog)"
   ]
  },
  {
   "cell_type": "code",
   "execution_count": 54,
   "id": "e863e9c5",
   "metadata": {},
   "outputs": [
    {
     "data": {
      "text/plain": [
       "False"
      ]
     },
     "execution_count": 54,
     "metadata": {},
     "output_type": "execute_result"
    }
   ],
   "source": [
    "isinstance(miles,Bulldog)"
   ]
  },
  {
   "cell_type": "code",
   "execution_count": 55,
   "id": "1a3360b1",
   "metadata": {},
   "outputs": [
    {
     "data": {
      "text/plain": [
       "False"
      ]
     },
     "execution_count": 55,
     "metadata": {},
     "output_type": "execute_result"
    }
   ],
   "source": [
    "isinstance(jack,Dachshund)"
   ]
  },
  {
   "cell_type": "code",
   "execution_count": 56,
   "id": "d0c4f4aa",
   "metadata": {},
   "outputs": [],
   "source": [
    "class JackRussellTerrier(Dog):\n",
    "    def speak(self,sound=\"Arf\"):\n",
    "        return f\"{self.name} says {sound}\""
   ]
  },
  {
   "cell_type": "code",
   "execution_count": 66,
   "id": "d866db6a",
   "metadata": {},
   "outputs": [
    {
     "data": {
      "text/plain": [
       "'Miles says Arf'"
      ]
     },
     "execution_count": 66,
     "metadata": {},
     "output_type": "execute_result"
    }
   ],
   "source": [
    "miles = JackRussellTerrier(\"Miles\", 4)\n",
    "miles.speak()"
   ]
  },
  {
   "cell_type": "code",
   "execution_count": 67,
   "id": "7e256987",
   "metadata": {},
   "outputs": [
    {
     "data": {
      "text/plain": [
       "'Miles says Grrr'"
      ]
     },
     "execution_count": 67,
     "metadata": {},
     "output_type": "execute_result"
    }
   ],
   "source": [
    "miles.speak(\"Grrr\")"
   ]
  },
  {
   "cell_type": "code",
   "execution_count": 70,
   "id": "d68bc40d",
   "metadata": {},
   "outputs": [],
   "source": [
    "class Dog:\n",
    "    species = \"Canis familiaris\"\n",
    "    \n",
    "    def __init__(self, name, age):\n",
    "        self.name = name\n",
    "        self.age = age\n",
    "    \n",
    "    def __str__(self):\n",
    "        return f\"{self.name} is {self.age} years old\"\n",
    "    \n",
    "    def speak(self, sound):\n",
    "        return f\"{self.name} barks: {sound}\"\n",
    "    \n",
    "class JackRussellTerrier(Dog):\n",
    "    def speak(self,sound=\"Arf\"):\n",
    "        return f\"{self.name} says {sound}\"\n",
    "class Dachshund(Dog):\n",
    "    pass\n",
    "class Bulldog(Dog):\n",
    "    pass"
   ]
  },
  {
   "cell_type": "code",
   "execution_count": 71,
   "id": "5aad0617",
   "metadata": {},
   "outputs": [
    {
     "data": {
      "text/plain": [
       "'Jim barks: Woof'"
      ]
     },
     "execution_count": 71,
     "metadata": {},
     "output_type": "execute_result"
    }
   ],
   "source": [
    "jim = Bulldog(\"Jim\", 5)\n",
    "jim.speak(\"Woof\")"
   ]
  },
  {
   "cell_type": "code",
   "execution_count": 72,
   "id": "6764b8f4",
   "metadata": {},
   "outputs": [
    {
     "data": {
      "text/plain": [
       "'Miles says Arf'"
      ]
     },
     "execution_count": 72,
     "metadata": {},
     "output_type": "execute_result"
    }
   ],
   "source": [
    "miles = JackRussellTerrier(\"Miles\", 4)\n",
    "miles.speak()"
   ]
  },
  {
   "cell_type": "code",
   "execution_count": 73,
   "id": "3d31921a",
   "metadata": {},
   "outputs": [],
   "source": [
    "#using the syper() function\n",
    "class Dog:\n",
    "    species = \"Canis familiaris\"\n",
    "    \n",
    "    def __init__(self, name, age):\n",
    "        self.name = name\n",
    "        self.age = age\n",
    "    \n",
    "    def __str__(self):\n",
    "        return f\"{self.name} is {self.age} years old\"\n",
    "    \n",
    "    def speak(self, sound):\n",
    "        return f\"{self.name} barks: {sound}\"\n",
    "    \n",
    "class JackRussellTerrier(Dog):\n",
    "    def speak(self,sound=\"Arf\"):\n",
    "        return super().speak(sound)\n",
    "class Dachshund(Dog):\n",
    "    pass\n",
    "class Bulldog(Dog):\n",
    "    pass"
   ]
  },
  {
   "cell_type": "code",
   "execution_count": 74,
   "id": "9717260e",
   "metadata": {},
   "outputs": [
    {
     "data": {
      "text/plain": [
       "'Miles barks: Arf'"
      ]
     },
     "execution_count": 74,
     "metadata": {},
     "output_type": "execute_result"
    }
   ],
   "source": [
    "miles = JackRussellTerrier(\"Miles\", 4)\n",
    "miles.speak()"
   ]
  },
  {
   "cell_type": "code",
   "execution_count": 75,
   "id": "d1ae258e",
   "metadata": {},
   "outputs": [],
   "source": [
    "#Review Exercise1\n",
    "class Dog:\n",
    "    species = \"Canis familiaris\"\n",
    "    \n",
    "    def __init__(self, name, age):\n",
    "        self.name = name\n",
    "        self.age = age\n",
    "    \n",
    "    def __str__(self):\n",
    "        return f\"{self.name} is {self.age} years old\"\n",
    "    \n",
    "    def speak(self, sound):\n",
    "        return f\"{self.name} says {sound}\"\n",
    "class GoldenRetriever(Dog):\n",
    "    def speak(self,sound=\"Bark\"):\n",
    "        return super().speak(sound)"
   ]
  },
  {
   "cell_type": "code",
   "execution_count": 76,
   "id": "04ed5bd7",
   "metadata": {},
   "outputs": [],
   "source": [
    "class Rectangle:\n",
    "    def __init__(self,length,width):\n",
    "        self.length=length\n",
    "        self.width=width\n",
    "    def area(self):\n",
    "        return self.length * self.width\n",
    "class Square(Rectangle):\n",
    "    def __init__(self,side_length):\n",
    "        return super().__init__(side_length,side_length)"
   ]
  },
  {
   "cell_type": "code",
   "execution_count": 77,
   "id": "83cb6721",
   "metadata": {},
   "outputs": [
    {
     "data": {
      "text/plain": [
       "16"
      ]
     },
     "execution_count": 77,
     "metadata": {},
     "output_type": "execute_result"
    }
   ],
   "source": [
    "square=Square(4)\n",
    "square.area()"
   ]
  },
  {
   "cell_type": "code",
   "execution_count": null,
   "id": "4626ffce",
   "metadata": {},
   "outputs": [],
   "source": [
    "#Modelling a farm challenge\n"
   ]
  }
 ],
 "metadata": {
  "kernelspec": {
   "display_name": "Python 3",
   "language": "python",
   "name": "python3"
  },
  "language_info": {
   "codemirror_mode": {
    "name": "ipython",
    "version": 3
   },
   "file_extension": ".py",
   "mimetype": "text/x-python",
   "name": "python",
   "nbconvert_exporter": "python",
   "pygments_lexer": "ipython3",
   "version": "3.8.8"
  }
 },
 "nbformat": 4,
 "nbformat_minor": 5
}
