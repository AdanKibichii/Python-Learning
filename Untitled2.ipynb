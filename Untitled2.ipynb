{
 "cells": [
  {
   "cell_type": "code",
   "execution_count": 20,
   "id": "8318e234",
   "metadata": {},
   "outputs": [
    {
     "name": "stdout",
     "output_type": "stream",
     "text": [
      "dict_values(['Adan', 29, True])\n"
     ]
    }
   ],
   "source": [
    "\n",
    "d={\n",
    "    \"Name\":\"Adan\",\n",
    "    \"Age\":29,\n",
    "    \"information\":True\n",
    "}\n",
    "print(d.values())"
   ]
  },
  {
   "cell_type": "code",
   "execution_count": 26,
   "id": "b046bd85",
   "metadata": {},
   "outputs": [
    {
     "name": "stdout",
     "output_type": "stream",
     "text": [
      "0\n",
      "1\n",
      "2\n",
      "3\n",
      "4\n"
     ]
    }
   ],
   "source": [
    "for number in range(5):\n",
    "    print(number)"
   ]
  },
  {
   "cell_type": "code",
   "execution_count": 29,
   "id": "baa43c7a",
   "metadata": {},
   "outputs": [
    {
     "name": "stdout",
     "output_type": "stream",
     "text": [
      "Adan\n",
      "29\n",
      "True\n"
     ]
    }
   ],
   "source": [
    "for key in d:\n",
    "    print(d[key])"
   ]
  },
  {
   "cell_type": "code",
   "execution_count": 30,
   "id": "a294289a",
   "metadata": {},
   "outputs": [
    {
     "name": "stdout",
     "output_type": "stream",
     "text": [
      "A\n",
      "d\n",
      "a\n",
      "n\n"
     ]
    }
   ],
   "source": [
    "for letters in \"Adan\":\n",
    "    print(letters)"
   ]
  },
  {
   "cell_type": "code",
   "execution_count": 40,
   "id": "108b6cea",
   "metadata": {},
   "outputs": [
    {
     "name": "stdout",
     "output_type": "stream",
     "text": [
      "one one\n",
      "two two\n",
      "three 3\n"
     ]
    }
   ],
   "source": [
    "my_dict = {\n",
    "\"one\": \"one\",\n",
    "\"two\": \"two\",\n",
    "\"three\": \"3\"\n",
    "}\n",
    "for x in my_dict:\n",
    "    print(x,my_dict[x])"
   ]
  },
  {
   "cell_type": "code",
   "execution_count": 71,
   "id": "e5e6a7af",
   "metadata": {},
   "outputs": [
    {
     "name": "stdout",
     "output_type": "stream",
     "text": [
      "0\n",
      "2\n",
      "4\n",
      "6\n",
      "8\n",
      "10\n",
      "12\n",
      "14\n",
      "16\n",
      "18\n",
      "20\n",
      "22\n",
      "24\n",
      "26\n",
      "28\n",
      "30\n",
      "32\n",
      "34\n",
      "36\n",
      "38\n",
      "40\n",
      "42\n",
      "44\n",
      "46\n",
      "48\n",
      "50\n"
     ]
    }
   ],
   "source": [
    "for i in range(51):\n",
    "    if i%2==0:\n",
    "        print(i)\n",
    "  \n",
    "\n",
    "\n",
    "    \n",
    " \n",
    "\n",
    "    \n",
    "\n",
    "    \n"
   ]
  },
  {
   "cell_type": "code",
   "execution_count": 88,
   "id": "42141fe4",
   "metadata": {},
   "outputs": [
    {
     "name": "stdout",
     "output_type": "stream",
     "text": [
      "[0, 4, 16, 36, 64, 100]\n"
     ]
    }
   ],
   "source": [
    "\n",
    "even_squares= [even_squares**2 for even_squares in range(12)\n",
    "    \n",
    "    if even_squares%2==0\n",
    "    ]\n",
    "print(even_squares)\n"
   ]
  },
  {
   "cell_type": "code",
   "execution_count": 87,
   "id": "e700f383",
   "metadata": {},
   "outputs": [
    {
     "name": "stdout",
     "output_type": "stream",
     "text": [
      "[1, 9, 25, 49, 81, 121]\n"
     ]
    }
   ],
   "source": [
    "odd_squares = [odd_squares**2 for odd_squares in range (12) if odd_squares%2==1]\n",
    "print(odd_squares)"
   ]
  },
  {
   "cell_type": "code",
   "execution_count": null,
   "id": "e6e71464",
   "metadata": {},
   "outputs": [],
   "source": []
  }
 ],
 "metadata": {
  "kernelspec": {
   "display_name": "Python 3",
   "language": "python",
   "name": "python3"
  },
  "language_info": {
   "codemirror_mode": {
    "name": "ipython",
    "version": 3
   },
   "file_extension": ".py",
   "mimetype": "text/x-python",
   "name": "python",
   "nbconvert_exporter": "python",
   "pygments_lexer": "ipython3",
   "version": "3.8.8"
  }
 },
 "nbformat": 4,
 "nbformat_minor": 5
}
