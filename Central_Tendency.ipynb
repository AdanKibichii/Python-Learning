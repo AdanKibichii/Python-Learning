{
 "cells": [
  {
   "cell_type": "code",
   "execution_count": 1,
   "id": "20631c69",
   "metadata": {},
   "outputs": [],
   "source": [
    "import pandas as pd\n",
    "import numpy as np"
   ]
  },
  {
   "cell_type": "code",
   "execution_count": 2,
   "id": "eb8963e3",
   "metadata": {},
   "outputs": [
    {
     "name": "stdout",
     "output_type": "stream",
     "text": [
      "    S.No.  MTE (25)  Mini Project (25)  Total (50)  ETE (50)  Total\n",
      "0       1      5.00                 20       25.00      12.0  37.00\n",
      "1       2     11.05                 20       31.05      26.0  57.05\n",
      "2       3      8.10                 20       28.10      14.0  42.10\n",
      "3       4      6.00                 10       16.00      13.0  29.00\n",
      "4       5     11.35                 20       31.35      17.0  48.35\n",
      "..    ...       ...                ...         ...       ...    ...\n",
      "74     75     12.05                 10       22.05      20.0  42.05\n",
      "75     76     12.25                 10       22.25      28.0  50.25\n",
      "76     77      1.75                 10       11.75       NaN   0.00\n",
      "77     78      3.00                 10       13.00       NaN   0.00\n",
      "78     79      5.80                 10       15.80      12.0  27.80\n",
      "\n",
      "[79 rows x 6 columns]\n"
     ]
    }
   ],
   "source": [
    "path= 'IBM-313 Marks.xlsx'\n",
    "table=pd.read_excel(path)\n",
    "print(table)"
   ]
  },
  {
   "cell_type": "code",
   "execution_count": 3,
   "id": "305b0b6d",
   "metadata": {},
   "outputs": [],
   "source": [
    "#Mean"
   ]
  },
  {
   "cell_type": "code",
   "execution_count": 4,
   "id": "0d30064b",
   "metadata": {},
   "outputs": [
    {
     "data": {
      "text/plain": [
       "46.90632911392405"
      ]
     },
     "execution_count": 4,
     "metadata": {},
     "output_type": "execute_result"
    }
   ],
   "source": [
    "x=table['Total']\n",
    "np.mean(x)"
   ]
  },
  {
   "cell_type": "code",
   "execution_count": 5,
   "id": "9e48d391",
   "metadata": {},
   "outputs": [],
   "source": [
    "#Median"
   ]
  },
  {
   "cell_type": "code",
   "execution_count": 6,
   "id": "5c2d9aff",
   "metadata": {},
   "outputs": [
    {
     "data": {
      "text/plain": [
       "45.0"
      ]
     },
     "execution_count": 6,
     "metadata": {},
     "output_type": "execute_result"
    }
   ],
   "source": [
    "np.median(x)"
   ]
  },
  {
   "cell_type": "code",
   "execution_count": 7,
   "id": "893859cc",
   "metadata": {},
   "outputs": [],
   "source": [
    "#Mode"
   ]
  },
  {
   "cell_type": "code",
   "execution_count": 8,
   "id": "8d0579c9",
   "metadata": {},
   "outputs": [
    {
     "data": {
      "text/plain": [
       "ModeResult(mode=array([0.]), count=array([2]))"
      ]
     },
     "execution_count": 8,
     "metadata": {},
     "output_type": "execute_result"
    }
   ],
   "source": [
    "import scipy\n",
    "from scipy import stats\n",
    "stats.mode(x)"
   ]
  },
  {
   "cell_type": "code",
   "execution_count": 9,
   "id": "a3656b00",
   "metadata": {},
   "outputs": [],
   "source": [
    "#Percentile"
   ]
  },
  {
   "cell_type": "code",
   "execution_count": 10,
   "id": "58cb8f4b",
   "metadata": {},
   "outputs": [
    {
     "name": "stdout",
     "output_type": "stream",
     "text": [
      "3.0\n"
     ]
    }
   ],
   "source": [
    "a=np.array([1,2,3,4,5])\n",
    "p=np.percentile(a, 50)\n",
    "print(p)"
   ]
  },
  {
   "cell_type": "code",
   "execution_count": 11,
   "id": "ea419e96",
   "metadata": {},
   "outputs": [
    {
     "name": "stdout",
     "output_type": "stream",
     "text": [
      "2.0\n"
     ]
    }
   ],
   "source": [
    "a=np.array([1,2,3,4,5])\n",
    "p=np.percentile(a, 25)\n",
    "print(p)"
   ]
  },
  {
   "cell_type": "code",
   "execution_count": 12,
   "id": "2b303a73",
   "metadata": {},
   "outputs": [
    {
     "name": "stdout",
     "output_type": "stream",
     "text": [
      "4.0\n"
     ]
    }
   ],
   "source": [
    "a=np.array([1,2,3,4,5])\n",
    "p=np.percentile(a, 75)\n",
    "print(p)"
   ]
  },
  {
   "cell_type": "code",
   "execution_count": 13,
   "id": "354dfcf6",
   "metadata": {},
   "outputs": [],
   "source": [
    "#Example of a loop"
   ]
  },
  {
   "cell_type": "code",
   "execution_count": 14,
   "id": "e9706ab1",
   "metadata": {},
   "outputs": [
    {
     "name": "stdout",
     "output_type": "stream",
     "text": [
      "['Ram', 65, 2.5]\n"
     ]
    }
   ],
   "source": [
    "k=['Ram', 65, 2.5]\n",
    "print(k)"
   ]
  },
  {
   "cell_type": "code",
   "execution_count": 15,
   "id": "0abea0d7",
   "metadata": {},
   "outputs": [
    {
     "name": "stdout",
     "output_type": "stream",
     "text": [
      "Ram\n",
      "65\n",
      "2.5\n"
     ]
    }
   ],
   "source": [
    "for i in k:\n",
    "    print(i)"
   ]
  },
  {
   "cell_type": "code",
   "execution_count": 16,
   "id": "55760d6e",
   "metadata": {},
   "outputs": [],
   "source": [
    "#range"
   ]
  },
  {
   "cell_type": "code",
   "execution_count": 17,
   "id": "0a90e56d",
   "metadata": {},
   "outputs": [
    {
     "name": "stdout",
     "output_type": "stream",
     "text": [
      "10\n",
      "12\n",
      "14\n",
      "16\n",
      "18\n"
     ]
    }
   ],
   "source": [
    "for i in range(10,20,2): print(i)"
   ]
  },
  {
   "cell_type": "code",
   "execution_count": 18,
   "id": "e75e929e",
   "metadata": {},
   "outputs": [
    {
     "name": "stdout",
     "output_type": "stream",
     "text": [
      "10,12,14,16,18,"
     ]
    }
   ],
   "source": [
    "for i in range(10,20,2): print(i, end=',')"
   ]
  },
  {
   "cell_type": "code",
   "execution_count": 19,
   "id": "c18cd5ad",
   "metadata": {},
   "outputs": [],
   "source": [
    "#functions in python"
   ]
  },
  {
   "cell_type": "code",
   "execution_count": 20,
   "id": "5e0f1ef3",
   "metadata": {},
   "outputs": [
    {
     "name": "stdout",
     "output_type": "stream",
     "text": [
      "Hi\n",
      "Good Evening\n"
     ]
    }
   ],
   "source": [
    "def greet():\n",
    "    print(\"Hi\")\n",
    "    print(\"Good Evening\")\n",
    "greet()"
   ]
  },
  {
   "cell_type": "code",
   "execution_count": 21,
   "id": "3bd29d9a",
   "metadata": {},
   "outputs": [
    {
     "name": "stdout",
     "output_type": "stream",
     "text": [
      "14\n"
     ]
    }
   ],
   "source": [
    "def add(p,q):\n",
    "    c=p+q\n",
    "    print(c)\n",
    "add(10,4)"
   ]
  },
  {
   "cell_type": "code",
   "execution_count": 22,
   "id": "b813a13c",
   "metadata": {},
   "outputs": [],
   "source": [
    "#finding minimum and maximum values"
   ]
  },
  {
   "cell_type": "code",
   "execution_count": 23,
   "id": "0a7af50f",
   "metadata": {},
   "outputs": [
    {
     "data": {
      "text/plain": [
       "(1, 463)"
      ]
     },
     "execution_count": 23,
     "metadata": {},
     "output_type": "execute_result"
    }
   ],
   "source": [
    "data=[1,3,4,463,2,3,6,8,9,4,254,6,72]\n",
    "min(data), max(data)"
   ]
  },
  {
   "cell_type": "code",
   "execution_count": 24,
   "id": "e0d66a06",
   "metadata": {},
   "outputs": [
    {
     "data": {
      "text/plain": [
       "(1, 463)"
      ]
     },
     "execution_count": 24,
     "metadata": {},
     "output_type": "execute_result"
    }
   ],
   "source": [
    "data=[1,3,4,463,2,3,6,8,9,4,254,6,72]\n",
    "def min_and_max(data):\n",
    "    min_value=min(data)\n",
    "    max_value=max(data)\n",
    "    \n",
    "    return (min_value, max_value)\n",
    "min_and_max(data)"
   ]
  },
  {
   "cell_type": "code",
   "execution_count": 25,
   "id": "5a6a96eb",
   "metadata": {},
   "outputs": [
    {
     "data": {
      "text/plain": [
       "(1, 463)"
      ]
     },
     "execution_count": 25,
     "metadata": {},
     "output_type": "execute_result"
    }
   ],
   "source": [
    "min_and_max(data)"
   ]
  },
  {
   "cell_type": "code",
   "execution_count": 26,
   "id": "cf75767e",
   "metadata": {},
   "outputs": [
    {
     "data": {
      "text/plain": [
       "(1, 463)"
      ]
     },
     "execution_count": 26,
     "metadata": {},
     "output_type": "execute_result"
    }
   ],
   "source": [
    "def rangef(data):\n",
    "    min_val=min(data)\n",
    "    max_val=max(data)\n",
    "    return (min_val, max_val)\n",
    "rangef(data)"
   ]
  },
  {
   "cell_type": "code",
   "execution_count": 27,
   "id": "6f78d922",
   "metadata": {},
   "outputs": [
    {
     "data": {
      "text/plain": [
       "(1, 463)"
      ]
     },
     "execution_count": 27,
     "metadata": {},
     "output_type": "execute_result"
    }
   ],
   "source": [
    "rangef(data)"
   ]
  },
  {
   "cell_type": "code",
   "execution_count": 28,
   "id": "dda2e7f6",
   "metadata": {},
   "outputs": [],
   "source": [
    "#quantile"
   ]
  },
  {
   "cell_type": "code",
   "execution_count": 29,
   "id": "31a19bac",
   "metadata": {},
   "outputs": [
    {
     "name": "stdout",
     "output_type": "stream",
     "text": [
      "2.0\n"
     ]
    }
   ],
   "source": [
    "a=np.array([1,2,3,4,5])\n",
    "q1=np.percentile(a,25)\n",
    "print(q1)"
   ]
  },
  {
   "cell_type": "code",
   "execution_count": 30,
   "id": "8145a064",
   "metadata": {},
   "outputs": [
    {
     "name": "stdout",
     "output_type": "stream",
     "text": [
      "3.0\n"
     ]
    }
   ],
   "source": [
    "a=np.array([1,2,3,4,5])\n",
    "q2=np.percentile(a,50)\n",
    "print(q2)"
   ]
  },
  {
   "cell_type": "code",
   "execution_count": 31,
   "id": "9447eaa5",
   "metadata": {},
   "outputs": [
    {
     "name": "stdout",
     "output_type": "stream",
     "text": [
      "4.0\n"
     ]
    }
   ],
   "source": [
    "a=np.array([1,2,3,4,5])\n",
    "q3=np.percentile(a,75)\n",
    "print(q3)"
   ]
  },
  {
   "cell_type": "code",
   "execution_count": 32,
   "id": "2b502247",
   "metadata": {},
   "outputs": [],
   "source": [
    "#interquatile range"
   ]
  },
  {
   "cell_type": "code",
   "execution_count": 33,
   "id": "9987da14",
   "metadata": {},
   "outputs": [
    {
     "data": {
      "text/plain": [
       "2.0"
      ]
     },
     "execution_count": 33,
     "metadata": {},
     "output_type": "execute_result"
    }
   ],
   "source": [
    "iq=q3-q1\n",
    "iq"
   ]
  },
  {
   "cell_type": "code",
   "execution_count": 34,
   "id": "c52f82f9",
   "metadata": {},
   "outputs": [],
   "source": [
    "#variance"
   ]
  },
  {
   "cell_type": "code",
   "execution_count": 35,
   "id": "40b81b1e",
   "metadata": {},
   "outputs": [
    {
     "data": {
      "text/plain": [
       "262.78147892965876"
      ]
     },
     "execution_count": 35,
     "metadata": {},
     "output_type": "execute_result"
    }
   ],
   "source": [
    "np.var(x)"
   ]
  },
  {
   "cell_type": "code",
   "execution_count": 36,
   "id": "5237a607",
   "metadata": {},
   "outputs": [],
   "source": [
    "#population standard deviation"
   ]
  },
  {
   "cell_type": "code",
   "execution_count": 37,
   "id": "ff985522",
   "metadata": {},
   "outputs": [
    {
     "data": {
      "text/plain": [
       "16.210536046955966"
      ]
     },
     "execution_count": 37,
     "metadata": {},
     "output_type": "execute_result"
    }
   ],
   "source": [
    "import statistics\n",
    "statistics.pstdev(x)"
   ]
  },
  {
   "cell_type": "code",
   "execution_count": 38,
   "id": "0783abdb",
   "metadata": {},
   "outputs": [],
   "source": [
    "#sample standard deviation"
   ]
  },
  {
   "cell_type": "code",
   "execution_count": 39,
   "id": "b44920db",
   "metadata": {},
   "outputs": [
    {
     "data": {
      "text/plain": [
       "16.31411880088133"
      ]
     },
     "execution_count": 39,
     "metadata": {},
     "output_type": "execute_result"
    }
   ],
   "source": [
    "statistics.stdev(x)"
   ]
  },
  {
   "cell_type": "code",
   "execution_count": 40,
   "id": "22af7721",
   "metadata": {},
   "outputs": [],
   "source": [
    "#standard deviation"
   ]
  },
  {
   "cell_type": "code",
   "execution_count": 41,
   "id": "fe82f80f",
   "metadata": {},
   "outputs": [
    {
     "data": {
      "text/plain": [
       "16.210536046955966"
      ]
     },
     "execution_count": 41,
     "metadata": {},
     "output_type": "execute_result"
    }
   ],
   "source": [
    "np.std(x)"
   ]
  },
  {
   "cell_type": "code",
   "execution_count": 42,
   "id": "72b4b032",
   "metadata": {},
   "outputs": [],
   "source": [
    "#skewness"
   ]
  },
  {
   "cell_type": "code",
   "execution_count": 43,
   "id": "7902f0a7",
   "metadata": {},
   "outputs": [],
   "source": [
    "from scipy.stats import skew"
   ]
  },
  {
   "cell_type": "code",
   "execution_count": 44,
   "id": "5d80f90c",
   "metadata": {},
   "outputs": [
    {
     "data": {
      "text/plain": [
       "0.10226407464884266"
      ]
     },
     "execution_count": 44,
     "metadata": {},
     "output_type": "execute_result"
    }
   ],
   "source": [
    "skew(x)"
   ]
  },
  {
   "cell_type": "code",
   "execution_count": 45,
   "id": "780a6775",
   "metadata": {},
   "outputs": [],
   "source": [
    "#box plot"
   ]
  },
  {
   "cell_type": "code",
   "execution_count": 46,
   "id": "1f1f603c",
   "metadata": {},
   "outputs": [
    {
     "data": {
      "image/png": "[encoded data removed]",
      "text/plain": [
       "<Figure size 432x288 with 1 Axes>"
      ]
     },
     "metadata": {
      "needs_background": "light"
     },
     "output_type": "display_data"
    }
   ],
   "source": [
    "from matplotlib import pyplot as plt\n",
    "plt.boxplot(x, sym='*')\n",
    "plt.show()"
   ]
  },
  {
   "cell_type": "code",
   "execution_count": null,
   "id": "357f9f4d",
   "metadata": {},
   "outputs": [],
   "source": []
  }
 ],
 "metadata": {
  "kernelspec": {
   "display_name": "Python 3",
   "language": "python",
   "name": "python3"
  },
  "language_info": {
   "codemirror_mode": {
    "name": "ipython",
    "version": 3
   },
   "file_extension": ".py",
   "mimetype": "text/x-python",
   "name": "python",
   "nbconvert_exporter": "python",
   "pygments_lexer": "ipython3",
   "version": "3.8.8"
  }
 },
 "nbformat": 4,
 "nbformat_minor": 5
}
