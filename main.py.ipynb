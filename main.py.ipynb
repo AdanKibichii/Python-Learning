{
 "cells": [
  {
   "cell_type": "code",
   "execution_count": 1,
   "id": "d73b9614",
   "metadata": {},
   "outputs": [
    {
     "name": "stdout",
     "output_type": "stream",
     "text": [
      "4\n"
     ]
    }
   ],
   "source": [
    "#main.py\n",
    "import adder\n",
    "\n",
    "value=adder.add(2,2)\n",
    "print(value)"
   ]
  },
  {
   "cell_type": "code",
   "execution_count": 2,
   "id": "e33f5d19",
   "metadata": {},
   "outputs": [
    {
     "name": "stdout",
     "output_type": "stream",
     "text": [
      "4\n"
     ]
    }
   ],
   "source": [
    "value=adder.add(2,2)\n",
    "print(value)"
   ]
  },
  {
   "cell_type": "code",
   "execution_count": 3,
   "id": "f7474929",
   "metadata": {},
   "outputs": [
    {
     "name": "stdout",
     "output_type": "stream",
     "text": [
      "8\n"
     ]
    }
   ],
   "source": [
    "double_value = adder.double(value)\n",
    "print(double_value)"
   ]
  },
  {
   "cell_type": "code",
   "execution_count": null,
   "id": "e3e64a45",
   "metadata": {},
   "outputs": [],
   "source": [
    "#variations of the import statement\n",
    "#1. import module as \"other name\"\n",
    "#2. from module import \"name\""
   ]
  },
  {
   "cell_type": "code",
   "execution_count": 4,
   "id": "ec378d1b",
   "metadata": {},
   "outputs": [
    {
     "name": "stdout",
     "output_type": "stream",
     "text": [
      "8\n"
     ]
    }
   ],
   "source": [
    "import adder as a\n",
    "value=a.add(2,2)\n",
    "double_value = a.double(value)\n",
    "print(double_value)"
   ]
  },
  {
   "cell_type": "code",
   "execution_count": 9,
   "id": "b909b01c",
   "metadata": {},
   "outputs": [
    {
     "name": "stdout",
     "output_type": "stream",
     "text": [
      "8\n"
     ]
    }
   ],
   "source": [
    "from adder import add, double\n",
    "value=add(2,2)\n",
    "double_value=double(value)\n",
    "print(double_value)"
   ]
  },
  {
   "cell_type": "code",
   "execution_count": 10,
   "id": "514b3a23",
   "metadata": {},
   "outputs": [
    {
     "name": "stdout",
     "output_type": "stream",
     "text": [
      "Hello Real Python!\n"
     ]
    }
   ],
   "source": [
    "#exercises\n",
    "import greeter\n",
    "greeter.greet(\"Real Python\")"
   ]
  },
  {
   "cell_type": "code",
   "execution_count": null,
   "id": "d1bab007",
   "metadata": {},
   "outputs": [],
   "source": []
  },
  {
   "cell_type": "code",
   "execution_count": null,
   "id": "8fcff354",
   "metadata": {},
   "outputs": [],
   "source": []
  }
 ],
 "metadata": {
  "kernelspec": {
   "display_name": "Python 3",
   "language": "python",
   "name": "python3"
  },
  "language_info": {
   "codemirror_mode": {
    "name": "ipython",
    "version": 3
   },
   "file_extension": ".py",
   "mimetype": "text/x-python",
   "name": "python",
   "nbconvert_exporter": "python",
   "pygments_lexer": "ipython3",
   "version": "3.8.8"
  }
 },
 "nbformat": 4,
 "nbformat_minor": 5
}
