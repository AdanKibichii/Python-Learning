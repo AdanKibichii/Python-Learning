{
 "cells": [
  {
   "cell_type": "code",
   "execution_count": 2,
   "id": "3a0011a5",
   "metadata": {},
   "outputs": [],
   "source": [
    "import scipy\n",
    "import numpy as np"
   ]
  },
  {
   "cell_type": "code",
   "execution_count": 3,
   "id": "c1da2e96",
   "metadata": {},
   "outputs": [],
   "source": [
    "from scipy.stats import binom"
   ]
  },
  {
   "cell_type": "code",
   "execution_count": 4,
   "id": "870144de",
   "metadata": {},
   "outputs": [
    {
     "data": {
      "text/plain": [
       "'A Gallup survey found that 65% of all financial consumers were very satisfied with\\ntheir primary financial institution. Suppose that 25 financial consumers are sampled\\nand if the Gallup survey result still holds true today, what is the probability that\\nexactly 19 are very satisfied with their primary financial institution?'"
      ]
     },
     "execution_count": 4,
     "metadata": {},
     "output_type": "execute_result"
    }
   ],
   "source": [
    "\"\"\"A Gallup survey found that 65% of all financial consumers were very satisfied with\n",
    "their primary financial institution. Suppose that 25 financial consumers are sampled\n",
    "and if the Gallup survey result still holds true today, what is the probability that\n",
    "exactly 19 are very satisfied with their primary financial institution?\"\"\"\n"
   ]
  },
  {
   "cell_type": "code",
   "execution_count": 5,
   "id": "22b9b9a7",
   "metadata": {},
   "outputs": [
    {
     "name": "stdout",
     "output_type": "stream",
     "text": [
      "0.09077799859322791\n"
     ]
    }
   ],
   "source": [
    " print(binom.pmf(k=19, n=25, p=0.65))"
   ]
  },
  {
   "cell_type": "code",
   "execution_count": 6,
   "id": "1b4eb6ec",
   "metadata": {},
   "outputs": [
    {
     "ename": "SyntaxError",
     "evalue": "invalid syntax (<ipython-input-6-c89735dc088a>, line 1)",
     "output_type": "error",
     "traceback": [
      "\u001b[1;36m  File \u001b[1;32m\"<ipython-input-6-c89735dc088a>\"\u001b[1;36m, line \u001b[1;32m1\u001b[0m\n\u001b[1;33m    According to the U.S. Census Bureau, approximately 6% of all workers in Jackson,\u001b[0m\n\u001b[1;37m              ^\u001b[0m\n\u001b[1;31mSyntaxError\u001b[0m\u001b[1;31m:\u001b[0m invalid syntax\n"
     ]
    }
   ],
   "source": [
    "According to the U.S. Census Bureau, approximately 6% of all workers in Jackson,\n",
    "Mississippi, are unemployed. In conducting a random telephone survey in Jackson,\n",
    "what is the probability of getting two or fewer unemployed workers in a sample of 20?"
   ]
  },
  {
   "cell_type": "code",
   "execution_count": null,
   "id": "b37a9d97",
   "metadata": {},
   "outputs": [],
   "source": [
    "binom.cdf(2,20,0.06)"
   ]
  },
  {
   "cell_type": "code",
   "execution_count": null,
   "id": "70d46cb1",
   "metadata": {},
   "outputs": [],
   "source": [
    "solve the binomial probability for n=20, p=40 and x=10"
   ]
  },
  {
   "cell_type": "code",
   "execution_count": null,
   "id": "6efa065c",
   "metadata": {},
   "outputs": [],
   "source": [
    "print(binom.pmf(k=10, n=20, p=0.4))"
   ]
  },
  {
   "cell_type": "code",
   "execution_count": null,
   "id": "d13d40ee",
   "metadata": {},
   "outputs": [],
   "source": [
    "poisson distribution"
   ]
  },
  {
   "cell_type": "code",
   "execution_count": null,
   "id": "36e1185b",
   "metadata": {},
   "outputs": [],
   "source": [
    "from scipy.stats import poisson"
   ]
  },
  {
   "cell_type": "code",
   "execution_count": null,
   "id": "dd94707f",
   "metadata": {},
   "outputs": [],
   "source": [
    "poisson.pmf(3,2) #x=3, mean=2"
   ]
  },
  {
   "cell_type": "code",
   "execution_count": null,
   "id": "c51053fd",
   "metadata": {},
   "outputs": [],
   "source": [
    "#suppose bank customers arrive randomly on weeekday afternoon at an average of 3.2 customers every 4 minutes. What is the probability of exactly 5 customers arriving in a 4 minute interval on a weekday afternoon?"
   ]
  },
  {
   "cell_type": "code",
   "execution_count": 74,
   "id": "cdb8b8b8",
   "metadata": {
    "scrolled": false
   },
   "outputs": [
    {
     "data": {
      "text/plain": [
       "0.11397938346351824"
      ]
     },
     "execution_count": 74,
     "metadata": {},
     "output_type": "execute_result"
    }
   ],
   "source": [
    "poisson.pmf(5,3.2)"
   ]
  },
  {
   "cell_type": "code",
   "execution_count": null,
   "id": "c6f33142",
   "metadata": {},
   "outputs": [],
   "source": [
    "bank customers arrive randomly on a weekday afternoons at an average of 3.2 customers every 4 mins. what is the probability of having more than 7 customers in a 4 minute interval on a weekday afternoon?"
   ]
  },
  {
   "cell_type": "code",
   "execution_count": 75,
   "id": "2bc41861",
   "metadata": {},
   "outputs": [],
   "source": [
    "prob=poisson.cdf(7,3.2)"
   ]
  },
  {
   "cell_type": "code",
   "execution_count": 76,
   "id": "4f8952b7",
   "metadata": {},
   "outputs": [
    {
     "data": {
      "text/plain": [
       "0.01682984174895752"
      ]
     },
     "execution_count": 76,
     "metadata": {},
     "output_type": "execute_result"
    }
   ],
   "source": [
    "prob_more_than_7=1-prob\n",
    "prob_more_than_7"
   ]
  },
  {
   "cell_type": "code",
   "execution_count": null,
   "id": "b0bd6849",
   "metadata": {},
   "outputs": [],
   "source": [
    "a bank has a random arrival rate of 3.2 customers every 4 mins. what is the probability of getting exactly 10 customers during a 8 min interval?"
   ]
  },
  {
   "cell_type": "code",
   "execution_count": 77,
   "id": "40d5640c",
   "metadata": {},
   "outputs": [
    {
     "data": {
      "text/plain": [
       "0.052790043854115495"
      ]
     },
     "execution_count": 77,
     "metadata": {},
     "output_type": "execute_result"
    }
   ],
   "source": [
    "poisson.pmf(10,6.4)"
   ]
  },
  {
   "cell_type": "code",
   "execution_count": null,
   "id": "148152f9",
   "metadata": {},
   "outputs": [],
   "source": [
    "uniform distribution"
   ]
  },
  {
   "cell_type": "code",
   "execution_count": null,
   "id": "0bd0bcdd",
   "metadata": {},
   "outputs": [],
   "source": [
    "suppose the time it takes to assemble a plastic module ranges from 27 to 39 seconds and that assembly times are uniformly distributed. Describe the distribution. what is the probability that given assembly will take between 30 to 35 seconds?"
   ]
  },
  {
   "cell_type": "code",
   "execution_count": 78,
   "id": "3c28d1cf",
   "metadata": {},
   "outputs": [
    {
     "data": {
      "text/plain": [
       "array([27, 28, 29, 30, 31, 32, 33, 34, 35, 36, 37, 38, 39])"
      ]
     },
     "execution_count": 78,
     "metadata": {},
     "output_type": "execute_result"
    }
   ],
   "source": [
    "u=np.arange(27,40,1)\n",
    "u"
   ]
  },
  {
   "cell_type": "code",
   "execution_count": 79,
   "id": "c8636b6e",
   "metadata": {},
   "outputs": [
    {
     "data": {
      "text/plain": [
       "33.0"
      ]
     },
     "execution_count": 79,
     "metadata": {},
     "output_type": "execute_result"
    }
   ],
   "source": [
    "from scipy.stats import uniform\n",
    "uniform.mean(loc=27, scale=12)"
   ]
  },
  {
   "cell_type": "code",
   "execution_count": null,
   "id": "91ad9a20",
   "metadata": {},
   "outputs": [],
   "source": []
  },
  {
   "cell_type": "code",
   "execution_count": null,
   "id": "b387b39a",
   "metadata": {},
   "outputs": [],
   "source": []
  },
  {
   "cell_type": "code",
   "execution_count": 80,
   "id": "97b57678",
   "metadata": {},
   "outputs": [
    {
     "data": {
      "text/plain": [
       "array([0.25      , 0.33333333, 0.41666667, 0.5       , 0.58333333,\n",
       "       0.66666667])"
      ]
     },
     "execution_count": 80,
     "metadata": {},
     "output_type": "execute_result"
    }
   ],
   "source": [
    "uniform.cdf(np.arange(30,36,1), loc=27, scale=12) "
   ]
  },
  {
   "cell_type": "code",
   "execution_count": 81,
   "id": "34838f12",
   "metadata": {},
   "outputs": [
    {
     "data": {
      "text/plain": [
       "0.41666667"
      ]
     },
     "execution_count": 81,
     "metadata": {},
     "output_type": "execute_result"
    }
   ],
   "source": [
    "prob=0.66666667-0.25\n",
    "prob"
   ]
  },
  {
   "cell_type": "code",
   "execution_count": null,
   "id": "f8c983ab",
   "metadata": {},
   "outputs": [],
   "source": [
    "according to the national association of insurance commissioners, the average annual cost for automobile insurance in the USA in the recent year was $691. suppose automobile insurance costs are uniformly distributed in the USA with a range of from $200 to $1182. what is the standard deviation of this uniform distribution?"
   ]
  },
  {
   "cell_type": "code",
   "execution_count": 82,
   "id": "c302414e",
   "metadata": {},
   "outputs": [
    {
     "data": {
      "text/plain": [
       "691.0"
      ]
     },
     "execution_count": 82,
     "metadata": {},
     "output_type": "execute_result"
    }
   ],
   "source": [
    "uniform.mean(loc=200, scale=982)"
   ]
  },
  {
   "cell_type": "code",
   "execution_count": 83,
   "id": "13586ccf",
   "metadata": {},
   "outputs": [
    {
     "data": {
      "text/plain": [
       "283.4789821721062"
      ]
     },
     "execution_count": 83,
     "metadata": {},
     "output_type": "execute_result"
    }
   ],
   "source": [
    "uniform.std(loc=200, scale=982)"
   ]
  },
  {
   "cell_type": "code",
   "execution_count": 27,
   "id": "dc887cbf",
   "metadata": {},
   "outputs": [],
   "source": [
    "#normal distribution"
   ]
  },
  {
   "cell_type": "code",
   "execution_count": 84,
   "id": "f82dc225",
   "metadata": {},
   "outputs": [],
   "source": [
    "from scipy.stats import norm"
   ]
  },
  {
   "cell_type": "code",
   "execution_count": 85,
   "id": "c503cb23",
   "metadata": {},
   "outputs": [],
   "source": [
    "val,m,s=68,65.5,2.5 "
   ]
  },
  {
   "cell_type": "code",
   "execution_count": 86,
   "id": "1d7e18c0",
   "metadata": {},
   "outputs": [
    {
     "name": "stdout",
     "output_type": "stream",
     "text": [
      "0.8413447460685429\n"
     ]
    }
   ],
   "source": [
    "print(norm.cdf(val,m,s))"
   ]
  },
  {
   "cell_type": "code",
   "execution_count": 87,
   "id": "15d9c2a2",
   "metadata": {},
   "outputs": [
    {
     "name": "stdout",
     "output_type": "stream",
     "text": [
      "0.15865525393145707\n"
     ]
    }
   ],
   "source": [
    "print(1-norm.cdf(val,m,s))"
   ]
  },
  {
   "cell_type": "code",
   "execution_count": 90,
   "id": "3e3f8715",
   "metadata": {},
   "outputs": [
    {
     "name": "stdout",
     "output_type": "stream",
     "text": [
      "0.6826894921370859\n"
     ]
    }
   ],
   "source": [
    "print(norm.cdf(val,m,s)-norm.cdf(63,m,s))"
   ]
  },
  {
   "cell_type": "code",
   "execution_count": 63,
   "id": "395b4fef",
   "metadata": {},
   "outputs": [],
   "source": [
    "#what is the probability of obtaining a score greater than 700 on a GMAT test that has a mean of 494 and a standard deviation of  100? Assume that GMAT scores are normally distributed"
   ]
  },
  {
   "cell_type": "code",
   "execution_count": 64,
   "id": "e31cc05e",
   "metadata": {},
   "outputs": [
    {
     "name": "stdout",
     "output_type": "stream",
     "text": [
      "0.019699270409376912\n"
     ]
    }
   ],
   "source": [
    "print(1-norm.cdf(700,494,100))"
   ]
  },
  {
   "cell_type": "code",
   "execution_count": 62,
   "id": "7c6264f9",
   "metadata": {},
   "outputs": [],
   "source": [
    "for the same GMAT examination.. What is the probability of randomly drawing a score that is 550 or less?"
   ]
  },
  {
   "cell_type": "code",
   "execution_count": null,
   "id": "3339c611",
   "metadata": {},
   "outputs": [],
   "source": [
    "for the same GMAT examination.. What is the probability of randomly drawing a score that is 550 or less"
   ]
  },
  {
   "cell_type": "code",
   "execution_count": 65,
   "id": "5be26ab8",
   "metadata": {},
   "outputs": [
    {
     "name": "stdout",
     "output_type": "stream",
     "text": [
      "0.712260281150973\n"
     ]
    }
   ],
   "source": [
    "print(norm.cdf(550,494,100))"
   ]
  },
  {
   "cell_type": "code",
   "execution_count": null,
   "id": "4599b1bb",
   "metadata": {},
   "outputs": [],
   "source": [
    "what is the probability of randomly obtaining a score that is between 300 and 600 in the GMAT exam?"
   ]
  },
  {
   "cell_type": "code",
   "execution_count": 89,
   "id": "3ad4decc",
   "metadata": {},
   "outputs": [
    {
     "data": {
      "text/plain": [
       "0.8292378553956377"
      ]
     },
     "execution_count": 89,
     "metadata": {},
     "output_type": "execute_result"
    }
   ],
   "source": [
    "norm.cdf(600,494,100)-norm.cdf(300,494,100)"
   ]
  },
  {
   "cell_type": "code",
   "execution_count": null,
   "id": "348ac274",
   "metadata": {},
   "outputs": [],
   "source": [
    "what is the probability of getting a score between 350 and 450 in the same GMAT exam?"
   ]
  },
  {
   "cell_type": "code",
   "execution_count": 91,
   "id": "9c849e9e",
   "metadata": {},
   "outputs": [
    {
     "name": "stdout",
     "output_type": "stream",
     "text": [
      "0.2550348541262666\n"
     ]
    }
   ],
   "source": [
    "print(norm.cdf(450,494,100)-norm.cdf(350,494,100))"
   ]
  },
  {
   "cell_type": "code",
   "execution_count": 92,
   "id": "e9bc048d",
   "metadata": {},
   "outputs": [
    {
     "data": {
      "text/plain": [
       "1.6448536269514722"
      ]
     },
     "execution_count": 92,
     "metadata": {},
     "output_type": "execute_result"
    }
   ],
   "source": [
    "norm.ppf(0.95)"
   ]
  },
  {
   "cell_type": "code",
   "execution_count": 93,
   "id": "d259bf41",
   "metadata": {},
   "outputs": [
    {
     "data": {
      "text/plain": [
       "-0.45988328292440145"
      ]
     },
     "execution_count": 93,
     "metadata": {},
     "output_type": "execute_result"
    }
   ],
   "source": [
    "norm.ppf(1-.6772)"
   ]
  },
  {
   "cell_type": "code",
   "execution_count": null,
   "id": "1a8741b8",
   "metadata": {},
   "outputs": [],
   "source": [
    "hypergeometric distribution example"
   ]
  },
  {
   "cell_type": "code",
   "execution_count": null,
   "id": "828d9c20",
   "metadata": {},
   "outputs": [],
   "source": [
    "suppose 18 major computer companies operate in the USA and 12 are located in California Slicon Valley. if three computer companies are selected randomly from the entire test. what is the probabbility that one of more of the selected companies are located in Silicon Valley?"
   ]
  },
  {
   "cell_type": "code",
   "execution_count": 96,
   "id": "03de6fd2",
   "metadata": {},
   "outputs": [],
   "source": [
    "from scipy.stats import hypergeom"
   ]
  },
  {
   "cell_type": "code",
   "execution_count": 97,
   "id": "2d21d82b",
   "metadata": {},
   "outputs": [],
   "source": [
    "pval=hypergeom.sf(0,18,3,12)"
   ]
  },
  {
   "cell_type": "code",
   "execution_count": 98,
   "id": "9b19d7d8",
   "metadata": {},
   "outputs": [
    {
     "data": {
      "text/plain": [
       "0.9754901960784306"
      ]
     },
     "execution_count": 98,
     "metadata": {},
     "output_type": "execute_result"
    }
   ],
   "source": [
    "pval"
   ]
  },
  {
   "cell_type": "code",
   "execution_count": null,
   "id": "b03f93f6",
   "metadata": {},
   "outputs": [],
   "source": [
    "a western city has 18 police officers eligible for promotion. eleven of the 18 are hispanic. suppose only five of the police officers are chosen for the promotion. if the officers chosen for promotion had been selected by chance alone. what is the probability that one or fewer of the five promoted officers would have been hispanic?"
   ]
  },
  {
   "cell_type": "code",
   "execution_count": 99,
   "id": "b26984cf",
   "metadata": {},
   "outputs": [],
   "source": [
    "pval=hypergeom.cdf(1,15,5,11)"
   ]
  },
  {
   "cell_type": "code",
   "execution_count": 100,
   "id": "e4178151",
   "metadata": {},
   "outputs": [
    {
     "data": {
      "text/plain": [
       "0.003663003663003666"
      ]
     },
     "execution_count": 100,
     "metadata": {},
     "output_type": "execute_result"
    }
   ],
   "source": [
    "pval"
   ]
  },
  {
   "cell_type": "code",
   "execution_count": null,
   "id": "63deb6ec",
   "metadata": {},
   "outputs": [],
   "source": [
    "exponetial diribution example"
   ]
  },
  {
   "cell_type": "code",
   "execution_count": null,
   "id": "999e19dd",
   "metadata": {},
   "outputs": [],
   "source": [
    "a manufacturing firm has been involved in statistical quality control for several years. as part of the production process, parts are randomly selected and tested. from the records of these tests. it has been established that a defective part occurs in a pattern that is Poisson distributed on the average of1.38 defected every 20 mins during production runs. use this information to determine that less than 15 mins will eplapse between any two defects?"
   ]
  },
  {
   "cell_type": "code",
   "execution_count": 101,
   "id": "e3b27f36",
   "metadata": {},
   "outputs": [
    {
     "data": {
      "text/plain": [
       "0.7246376811594204"
      ]
     },
     "execution_count": 101,
     "metadata": {},
     "output_type": "execute_result"
    }
   ],
   "source": [
    "mu1=1/1.38 #mean for 20mins\n",
    "mu1"
   ]
  },
  {
   "cell_type": "code",
   "execution_count": 102,
   "id": "5a24fbc3",
   "metadata": {},
   "outputs": [
    {
     "data": {
      "text/plain": [
       "0.6447736190750485"
      ]
     },
     "execution_count": 102,
     "metadata": {},
     "output_type": "execute_result"
    }
   ],
   "source": [
    "from scipy.stats import expon\n",
    "expon.cdf(0.75,0,(1/1.38))"
   ]
  },
  {
   "cell_type": "code",
   "execution_count": null,
   "id": "a4c8229c",
   "metadata": {},
   "outputs": [],
   "source": []
  },
  {
   "cell_type": "code",
   "execution_count": null,
   "id": "230395a2",
   "metadata": {},
   "outputs": [],
   "source": []
  },
  {
   "cell_type": "code",
   "execution_count": null,
   "id": "d4e592c9",
   "metadata": {},
   "outputs": [],
   "source": []
  },
  {
   "cell_type": "code",
   "execution_count": null,
   "id": "44fb11cf",
   "metadata": {},
   "outputs": [],
   "source": []
  }
 ],
 "metadata": {
  "kernelspec": {
   "display_name": "Python 3",
   "language": "python",
   "name": "python3"
  },
  "language_info": {
   "codemirror_mode": {
    "name": "ipython",
    "version": 3
   },
   "file_extension": ".py",
   "mimetype": "text/x-python",
   "name": "python",
   "nbconvert_exporter": "python",
   "pygments_lexer": "ipython3",
   "version": "3.8.8"
  }
 },
 "nbformat": 4,
 "nbformat_minor": 5
}
