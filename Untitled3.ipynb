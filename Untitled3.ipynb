{
 "cells": [
  {
   "cell_type": "code",
   "execution_count": null,
   "id": "e2215f1e",
   "metadata": {},
   "outputs": [],
   "source": [
    "for i in range(3):\n",
    "    key=input(\"Enter a key: \")\n",
    "    if key==\"q\":\n",
    "        break\n",
    "print(\"incorrect key\")"
   ]
  },
  {
   "cell_type": "code",
   "execution_count": 13,
   "id": "8de92262",
   "metadata": {},
   "outputs": [
    {
     "name": "stdout",
     "output_type": "stream",
     "text": [
      "Enter a key: f\n",
      "Enter a key: d\n",
      "Enter a key: e\n",
      "incorrect key\n"
     ]
    }
   ],
   "source": [
    "for i in range(3):\n",
    "    key=input(\"Enter a key: \")\n",
    "    if key.lower()==\"q\":\n",
    "        print(\"correct\")\n",
    "        break\n",
    "\n",
    "else:\n",
    "    print(\"incorrect key\")"
   ]
  },
  {
   "cell_type": "code",
   "execution_count": 5,
   "id": "e75e86d1",
   "metadata": {},
   "outputs": [
    {
     "name": "stdout",
     "output_type": "stream",
     "text": [
      "1\n",
      "2\n",
      "4\n",
      "5\n",
      "7\n",
      "8\n",
      "10\n",
      "11\n",
      "13\n",
      "14\n",
      "16\n",
      "17\n",
      "19\n",
      "20\n",
      "22\n",
      "23\n",
      "25\n",
      "26\n",
      "28\n",
      "29\n",
      "31\n",
      "32\n",
      "34\n",
      "35\n",
      "37\n",
      "38\n",
      "40\n",
      "41\n",
      "43\n",
      "44\n",
      "46\n",
      "47\n",
      "49\n"
     ]
    }
   ],
   "source": [
    "for n in range(1,50):\n",
    "    if n%3!=0:\n",
    "        print(n)"
   ]
  },
  {
   "cell_type": "code",
   "execution_count": 3,
   "id": "5829d8e5",
   "metadata": {},
   "outputs": [],
   "source": [
    "for n in range(1,50,3):\n",
    "    if n%3==0:\n",
    "        print(n)"
   ]
  },
  {
   "cell_type": "code",
   "execution_count": null,
   "id": "7cdc102d",
   "metadata": {},
   "outputs": [],
   "source": []
  }
 ],
 "metadata": {
  "kernelspec": {
   "display_name": "Python 3",
   "language": "python",
   "name": "python3"
  },
  "language_info": {
   "codemirror_mode": {
    "name": "ipython",
    "version": 3
   },
   "file_extension": ".py",
   "mimetype": "text/x-python",
   "name": "python",
   "nbconvert_exporter": "python",
   "pygments_lexer": "ipython3",
   "version": "3.8.8"
  }
 },
 "nbformat": 4,
 "nbformat_minor": 5
}
